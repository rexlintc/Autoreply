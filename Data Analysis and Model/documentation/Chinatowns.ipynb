{
 "cells": [
  {
   "cell_type": "markdown",
   "metadata": {},
   "source": [
    "\n",
    "# Chinatown and the Culture of Exclusion\n",
    "\n",
    "**Developers: Michaela Palmer, Maya Shen, Cynthia Leu, Chris Cheung**\n",
    "\n",
    "We will be reading and analyzing representations of Chinatown in the form of data and maps. In addition, we will learn how data tools can be used to read and analyze large volumes of text.\n",
    "\n",
    "**Explore more of this lab here: https://github.com/ds-modules/XENGLIS-31AC**\n",
    "\n",
    "## What this lab will cover\n",
    "* Running Jupyter Notebooks\n",
    "* Data Analysis of Chinatowns' demographics\n",
    "* Visualization & Interpretation\n",
    "* Using Data Tools to Analyze Primary Texts\n",
    "\n",
    "## What you need to do\n",
    "* Read the content, complete the questions\n",
    "* Analyze the data\n",
    "* Submit the assignment\n",
    "\n"
   ]
  },
  {
   "cell_type": "markdown",
   "metadata": {},
   "source": [
    "### Official map of Chinatown in San Francisco - 1855\n",
    "#### Prepared under the supervision of the special committee of the Board of Supervisors. July 1885.\n",
    "\n",
    "![image](data/PJM_1093_01.jpg)\n",
    "\n",
    "\n",
    "This map reflects the pervasive bias against the Chinese in California and in turn further fostered the hysteria. It was published as part of an official report of a Special Committee established by the San Francisco Board of Supervisors \"on the Condition of the Chinese Quarter.\" The Report resulted from a dramatic increase in hostility to the Chinese, particularly because many Chinese laborers had been driven out of other Western states by vigilantes and sought safety in San Francisco (Shah 2001, 37).\n",
    "<p>The substance and tone of the Report is best illustrated by a few excerpts: \"The general aspect of the streets and habitations was filthy in the extreme, . . . a slumbering pest, likely at any time to generate and spread disease, . . . a constant source of danger . . . , the filthiest spot inhabited by men, women and children on the American continent.\" (Report 4-5). \"The Chinese brought here with them and have successfully maintained and perpetuated the grossest habits of bestiality practiced by the human race.\" (Ibid. 38).\n",
    "<p>The map highlights the Committee's points, particularly the pervasiveness of gambling, prostitution and opium use. It shows the occupancy of the street floor of every building in Chinatown, color coded to show: General Chinese Occupancy|Chinese Gambling Houses|Chinese Prostitution|Chinese Opium Resorts|Chinese Joss Houses|and White Prostitution.\n",
    "The Report concludes with a recommendation that the Chinese be driven out of the City by stern enforcement of the law: \"compulsory obedience to our laws [is] necessarily obnoxious and revolting to the Chinese|and the more rigidly this enforcement is insisted upon and carried out the less endurable will existence be to them here, the less attractive will life be to them in California. Fewer will come and fewer will remain. . . . Scatter them by such a policy as this to other States . . . .\" (Ibid. 67-68)"
   ]
  },
  {
   "cell_type": "markdown",
   "metadata": {},
   "source": [
    "# Importing Modules\n",
    "\n",
    "Just run this (may take up to a minute).  \n",
    "*If you're running this locally, you'll need to install the datascience module for this to work! (You should be fine if you're on DataHub).*"
   ]
  },
  {
   "cell_type": "code",
   "execution_count": 8,
   "metadata": {
    "collapsed": false
   },
   "outputs": [
    {
     "ename": "ModuleNotFoundError",
     "evalue": "No module named 'spacy'",
     "output_type": "error",
     "traceback": [
      "\u001b[0;31m---------------------------------------------------------------------------\u001b[0m",
      "\u001b[0;31mModuleNotFoundError\u001b[0m                       Traceback (most recent call last)",
      "\u001b[0;32m<ipython-input-8-47f4dc1edd64>\u001b[0m in \u001b[0;36m<module>\u001b[0;34m()\u001b[0m\n\u001b[1;32m     13\u001b[0m \u001b[0;32mfrom\u001b[0m \u001b[0mIPython\u001b[0m\u001b[0;34m.\u001b[0m\u001b[0mdisplay\u001b[0m \u001b[0;32mimport\u001b[0m \u001b[0mHTML\u001b[0m\u001b[0;34m,\u001b[0m \u001b[0mdisplay\u001b[0m\u001b[0;34m,\u001b[0m \u001b[0mIFrame\u001b[0m\u001b[0;34m\u001b[0m\u001b[0m\n\u001b[1;32m     14\u001b[0m \u001b[0;32mimport\u001b[0m \u001b[0mfolium\u001b[0m\u001b[0;34m\u001b[0m\u001b[0m\n\u001b[0;32m---> 15\u001b[0;31m \u001b[0;32mimport\u001b[0m \u001b[0mspacy\u001b[0m\u001b[0;34m\u001b[0m\u001b[0m\n\u001b[0m\u001b[1;32m     16\u001b[0m \u001b[0;32mfrom\u001b[0m \u001b[0mwordcloud\u001b[0m \u001b[0;32mimport\u001b[0m \u001b[0mWordCloud\u001b[0m\u001b[0;34m\u001b[0m\u001b[0m\n\u001b[1;32m     17\u001b[0m \u001b[0;32mfrom\u001b[0m \u001b[0mtextblob\u001b[0m \u001b[0;32mimport\u001b[0m \u001b[0mTextBlob\u001b[0m\u001b[0;34m\u001b[0m\u001b[0m\n",
      "\u001b[0;31mModuleNotFoundError\u001b[0m: No module named 'spacy'"
     ]
    }
   ],
   "source": [
    "%%capture\n",
    "!python -m spacy download en\n",
    "!pip install --no-cache-dir wordcloud\n",
    "!pip3 install --no-cache-dir -U folium\n",
    "!pip install --no-cache-dir textblob\n",
    "from datascience import make_array\n",
    "from datascience import *\n",
    "import numpy as np\n",
    "import matplotlib.pyplot as plt\n",
    "from ipywidgets import *\n",
    "%matplotlib inline\n",
    "import folium\n",
    "import pandas as pd\n",
    "from IPython.display import HTML, display, IFrame\n",
    "import folium\n",
    "import spacy\n",
    "from wordcloud import WordCloud\n",
    "from textblob import TextBlob\n",
    "import geojson"
   ]
  },
  {
   "cell_type": "markdown",
   "metadata": {},
   "source": [
    "# Reading Primary Texts\n"
   ]
  },
  {
   "cell_type": "markdown",
   "metadata": {},
   "source": [
    "In this class, we have been learning how to 'close-read' primary texts. Close-reading generally involves picking select passages and reading for the latent meanings embedded in word choice, syntax, the use of metaphors and symbols, etc. Here, we are introducing another way of analyzing primary texts using computational methods. Computational text analysis generally involves 'counting' words. Let's see how this works by analyzing some of the poems written by Chinese immigrants on Angel Island.\n",
    "\n",
    "<p>Run the following cell to import the poems from a .txt file."
   ]
  },
  {
   "cell_type": "code",
   "execution_count": 6,
   "metadata": {
    "collapsed": false
   },
   "outputs": [
    {
     "name": "stdout",
     "output_type": "stream",
     "text": [
      "The sea-scape resembles lichen twisting and\n",
      "turning for a thousand li\n",
      "There is no shore to land and it is difficult to\n",
      "walk.\n",
      "With a gentle breeze I arrived at the city\n",
      "thinking all would be so.\n",
      "At ease, how was one to know he was to live in a\n",
      "wooden building?\n",
      "\n",
      "Because my house had bare walls, I began\n",
      "rushing all about.\n",
      "The waves are happy, laughing \"Ha-ha!\"\n",
      "When I arrived on Island, I heard I was\n",
      "forbidden to land.\n",
      "I could do nothing but frown and feel angry\n",
      "at heaven.\n",
      "\n",
      "As a rule, a person is twenty before he starts\n",
      "making a living.\n",
      "Family circumstances have forced me to\n",
      "experience wind and dust.\n",
      "The heartless months and years seem bent on\n",
      "defeating me.\n",
      "It is a pity that time quickly ages one.\n",
      "\n",
      "The gold and silver of America is very\n",
      "appealing.\n",
      "Jabbing an awl into the thigh in search of\n",
      "glory,\n",
      "I embarked on the journey.\n",
      "Not only are my one-thousand pieces of gold\n",
      "already depleted, but\n",
      "My countenance is blackened. It is surely for\n",
      "the sake of the family.\n",
      "\n",
      "Four days before the Qiqiao Festival,\n",
      "I boarded the steamship for America.\n",
      "Time flew like a shooting arrow.\n",
      "Already, a cool autumn has passed.\n",
      "Counting on my fingers, several months have\n",
      "elapsed.\n",
      "Still I am at the beginning of the road.\n",
      "I have yet to be interrogated.\n",
      "My heart is nervous with anticipation.\n",
      "\n",
      "Everyone says travelling to North America is\n",
      "a pleasure.\n",
      "I suffered misery on the ship and sadness in\n",
      "the wooden building.\n",
      "After several interrogations, still I am not\n",
      "done.\n",
      "I sigh because my compatriots are being\n",
      "forceably detained.\n",
      "\n",
      "Originally, I had intended to come to\n",
      "America last year.\n",
      "Lack of money delayed me until early\n",
      "autumn.\n",
      "It was on the day that the Weaver Maiden\n",
      "met the Cowherd\n",
      "That I took passage on the President Lincoln.\n",
      "I ate wind and tasted waves for more than\n",
      "twenty days.\n",
      "Fortunately, I arrived safely on the American\n",
      "continent.\n",
      "I thought I could land in a few days.\n",
      "How was I to know I would become a\n",
      "prisoner suffering in the wooden building?\n",
      "The barbarians' abuse is really difficult to\n",
      "take.\n",
      "When my family's circumstances stir my\n",
      "emotions, a double stream of tears flow.\n",
      "I only wish I can land in San Francisco soon.\n",
      "Thus sparing me this additional sorrow here.\n",
      "\n",
      "Instead of remaining a citizen of China, I\n",
      "willingly became an ox.\n",
      "I intended to come to America to earn a\n",
      "living.\n",
      "The Western styled buildings are lofty; but I\n",
      "have not the luck to live in them.\n",
      "How was anyone to know that my dwelling\n",
      "place would be a prison?\n",
      "\n",
      "I used to admire the land of the Flowery\n",
      "Flag as a country of abundance.\n",
      "I immediately raised money and started my\n",
      "journey.\n",
      "For over a month, I have experienced enough\n",
      "winds and waves.\n",
      "Now on an extended sojourn in jail, I am\n",
      "subject to the ordeals of prison life.\n",
      "I look up and see Oakland so close by.\n",
      "I wish to go back to my motherland to carry\n",
      "the farmer's hoe.\n",
      "Discontent fills my belly and it is difficult for\n",
      "me to sleep.\n",
      "I just write these few lines to express what is\n",
      "on my mind.\n",
      "\n",
      "Just talk about going to the land of the\n",
      "Flowery Flag and my countenance fills\n",
      "with happiness.\n",
      "Not without hard work were 1,000 pieces of\n",
      "gold dug up and gathered together.\n",
      "There were words of farewell to the parents,\n",
      "but the throat choked up first.\n",
      "There were many feelings, many tears flowing\n",
      "face to face, when parting with the wife.\n",
      "Waves big as mountains often astonished this\n",
      "traveller.\n",
      "With laws harsh as tigers, I had a taste of all\n",
      "the barbarities.\n",
      "Do not forget this day when you land ashore.\n",
      "Push yourself ahead and do not be lazy or\n",
      "idle.\n",
      "\n",
      "I think back on the past when I had not\n",
      "experienced hardship.\n",
      "I resolved to go and seek Taogong.\n",
      "The months and years are wasted and still it\n",
      "has not ended.\n",
      "Up to now, I am still trapped on a lonely\n",
      "island.\n",
      "\n",
      "Today is the last day of winter.\n",
      "Tomorrow morning is the vernal equinox.\n",
      "One year's prospects have changed to another.\n",
      "Sadness kills the person in the wooden\n",
      "building.\n",
      "\n",
      "In the quiet of night, I heard, faintly, the\n",
      "whistling of wind.\n",
      "The forms and shadows saddened me, upon\n",
      "seeing the landscape, I composed a poem.\n",
      "The floating clouds, the fog, darken the sky.\n",
      "The moon shines faintly as the insects chirp.\n",
      "Grief and bitterness entwined are heaven sent.\n",
      "The sad person sits alone, leaning by a window.\n",
      "\n",
      "The night is cool as I lie stiff on the steel bunk.\n",
      "Before the window the moon lady shines on me.\n",
      "Bored, I get up and stand beneath the cold\n",
      "window.\n",
      "Sadly, I count the time that's elapsed.\n",
      "It is already mid-autumn.\n",
      "We should all honor and enjoy her.\n",
      "But I have not prepared even the most trifling\n",
      "gift and I feel embarrassed.\n",
      "\n",
      "The insects chirp outside the four walls.\n",
      "The inmates often sigh.\n",
      "Thinking of affairs back home.\n",
      "Unconscious tears wet my lapel.\n",
      "\n",
      "Depressed from living on Island, I sought the\n",
      "Sleeping Village.\n",
      "The uncertain future altogether wounds my\n",
      "spirit.\n",
      "When I see my old country fraught with chaos,\n",
      "I, a drifting leaf, become doubly saddened.\n",
      "\n",
      "My belly is so full of discontent it is really\n",
      "difficult to relax.\n",
      "I can only worry silently to myself.\n",
      "At times I gaze at the cloud- and fog-enshrouded\n",
      "mountain-front.\n",
      "It only deepens my sadness.\n",
      "\n",
      "Sadly, I listen to the sounds of insects and\n",
      "angry surf.\n",
      "The harsh laws pile layer upon layer; how\n",
      "can I dissipate my hatred?\n",
      "Drifting in as a traveller, I met with this\n",
      "calamity.\n",
      "It is more miserable than owning only a flute\n",
      "in the marketplace of Wu.\n",
      "\n",
      "Living on Island away from home elicits a\n",
      "hundred feelings.\n",
      "My chest is filled with a sadness and anger I\n",
      "cannot bear to explain.\n",
      "Night and day, I sit passively and listlessly.\n",
      "Fortunately, I have a novel as my companion.\n",
      "\n",
      "Imprisonment at Youli, when will it end?\n",
      "Fur and linen garments have been exchanged;\n",
      "it is already another autumn.\n",
      "My belly brims with discontent, too numerous\n",
      "to inscribe on bamboo slips.\n",
      "Snow falls, flowers wilt, expressing sorrow\n",
      "through the ages.\n",
      "\n",
      "The west wind ruffles my thin gauze clothing.\n",
      "On the hill sits a tall building with a room of\n",
      "wooden planks.\n",
      "I wish I could travel on a cloud far away,\n",
      "reunite with my wife and son.\n",
      "When the moonlight shines on me alone, the\n",
      "nights seem even longer.\n",
      "At the head of the bed there is wine and my\n",
      "heart is constantly drunk.\n",
      "There is no flower beneath my pillow and\n",
      "my dreams are not sweet.\n",
      "To whom can I confide my innermost\n",
      "feelings?\n",
      "I rely solely on close friends to relieve my\n",
      "loneliness.\n",
      "\n",
      "America has power, but not justice.\n",
      "In prison, we were victimized as if we were\n",
      "guilty.\n",
      "Given no opportunity to explain, it was really\n",
      "brutal.\n",
      "I bow my head in reflection but there is\n",
      "nothing I can do.\n",
      "\n",
      "This place is called an island of immortals.\n",
      "When, in fact, this mountain wilderness is a\n",
      "prison.\n",
      "Once you see the open net, why throw\n",
      "yourself in?\n",
      "It is only because of empty pockets I can do\n",
      "nothing else.\n",
      "\n",
      "I, a seven foot man, am ashamed I cannot\n",
      "extend myself.\n",
      "Curled up in an enclosure, my movements\n",
      "are dictated by others.\"\n",
      "Enduring a hundred humiliations, I can only\n",
      "cry in vain.\n",
      "This person's tears fall, but what can the blue\n",
      "heavens do?\n",
      "\n",
      "I have infinite feelings that the ocean\n",
      "has changed into a mulberry grove.\n",
      "My body is detained in this building.\n",
      "I cannot fly from this grassy hill.\n",
      "And green waters block the hero.\n",
      "Impetuously, I threw away my writing brush.\n",
      "My efforts have all been in vain.\n",
      "It is up to me to answer carefully.\n",
      "I have no words to murmur against the east\n",
      "wind.\n",
      "\n",
      "My grief, like dense clouds, cannot be\n",
      "dispersed.\n",
      "Whether deliberating or being melancholy\n",
      "and bored,\n",
      "I constantly pace to and fro.\n",
      "Wang Can ascended the tower but who\n",
      "pitied his sorrow?\n",
      "Lord Yu who left his country could only wail\n",
      "to himself.\n",
      "\n",
      "Over a hundred poems are on the walls.\n",
      "Looking at them, they are all pining at the\n",
      "delayed progress.\n",
      "What can one sad person say to another?\n",
      "Unfortunate travellers everywhere wish to\n",
      "commiserate.\n",
      "Gain or lose, how is one to know what is\n",
      "predestined?\n",
      "Rich or poor, who is to say it is not the will\n",
      "of heaven?\n",
      "Why should one complain if he is detained\n",
      "and imprisoned here?\n",
      "From ancient times, heroes often were the\n",
      "first ones to face adversity.\n",
      "\n",
      "The male eagle is also easy to tame.\n",
      "One must be able to bend before one can\n",
      "stretch.\n",
      "China experienced calamities for a thousand\n",
      "years.\n",
      "Confucius was surrounded in Chen for seven\n",
      "days.\n",
      "Great men exhibit quality.\n",
      "Scholars take pride in being themselves.\n",
      "Gains and losses are entangled in my bosom.\n",
      "My restlessness is a sign of self-illumination.\n",
      "\n",
      "Half way up the hill on Island, in the\n",
      "building upstairs.\n",
      "The imprisoned one has been separated from\n",
      "his people summer to autumn.\n",
      "Three times I dreamed of returning to the\n",
      "native village.\n",
      "My intestines are agitated in its nine turns by\n",
      "the false Westerner.\n",
      "I have run into hard times and am uselessly\n",
      "depressed.\n",
      "There are many obstacles in life but who will\n",
      "commiserate with me?\n",
      "If at a later time I am allowed to land on the\n",
      "American shore,\n",
      "I will toss all the miseries of this jail to the\n",
      "flowing current.\n",
      "\n",
      "After leaping into prison, I cannot come out.\n",
      "From endless sorrows, tears and blood streak.\n",
      "The jingwei bird carries gravel to fill its old\n",
      "grudge.\n",
      "The migrating wild goose complains to the\n",
      "moon, mourning his harried life.\n",
      "When Ziqing was in distant lands, who\n",
      "pitied and inquired after him?\n",
      "When Ruan Ji reached the end of the road,\n",
      "he shed tile tears.\n",
      "The scented grass and hidden orchids\n",
      "complain of withering and falling.\n",
      "When can I be allowed to rise above as I\n",
      "please?\n",
      "\n",
      "There are tens of thousands of poems\n",
      "composed on these walls.\n",
      "They are all cries of complaint and sadness.\n",
      "The day I am rid of this prison and attain\n",
      "success,\n",
      "I must remember that this chapter once\n",
      "existed.\n",
      "In my daily needs, I must be frugal.\n",
      "Needless extravagance leads youth to ruin.\n",
      "All my compatriots should please be mindful.\n",
      "Once you have some small gains, return\n",
      "home early.\n",
      "\n",
      "Imprisoned in the wooden building day after\n",
      "day.\n",
      "My freedom withheld; how can I bear to talk\n",
      "about it?\n",
      "I look to see who is happy but they only sit\n",
      "quietly.\n",
      "I am anxious and depressed and cannot fall\n",
      "asleep.\n",
      "The days are long and the bottle constantly\n",
      "empty; my sad mood, even so, is not\n",
      "dispelled.\n",
      "Nights are long and the pillow cold; who can\n",
      "pity my loneliness?\n",
      "After experiencing such loneliness and sorrow.\n",
      "Why not just return home and learn to plow\n",
      "the fields?\n",
      "\n",
      "A building does not have to be tall; if it has\n",
      "windows, it will be bright.\n",
      "Island is not far, Angel Island.\n",
      "Alas, this wooden building disrupts my\n",
      "travelling schedule.\n",
      "Paint on the four walls are green.\n",
      "And green is the grass which surrounds.\n",
      "It is noisy because of the many country folk.\n",
      "And there are watchmen guarding during the\n",
      "night.\n",
      "To exert influence, one can use a square-holed\n",
      "elder brother.\n",
      "There are children who disturb the ears.\n",
      "But there are no incoherent sounds that\n",
      "cause fatigue.\n",
      "I gaze to the south at the hospital,\n",
      "And look to the west at the army camp.\n",
      "This author says, \"What happiness is there in\n",
      "this?\n",
      "\n",
      "For what reason must I sit in jail?\n",
      "It is only because my country is weak and\n",
      "my family poor.\n",
      "My parents wait at the door but there is no\n",
      "news.\n",
      "My wife and child wrap themselves in quilt,\n",
      "sighing with loneliness.\n",
      "Even if my petition is approved and I can\n",
      "enter the country.\n",
      "When can I return to the Mountains of Tang\n",
      "with a full load?\n",
      "From ancient times, those who venture out\n",
      "usually become worthless.\n",
      "How many people ever return from battles?\n",
      "\n",
      "\n",
      "Leaving behind my writing brush and\n",
      "removing my sword, I came to America.\n",
      "Who was to know two streams of tears would\n",
      "flow upon arriving here?\n",
      "If there comes a day when I will have\n",
      "attained my ambition and become\n",
      "successful,\n",
      "I will certainly behead the barbarians and\n",
      "spare not a single blade of grass.\n",
      "\n",
      "I am a member of the Huang clan from\n",
      "Xiangcheng.\n",
      "I threw away my writing brush and pushed\n",
      "forward, journeying to the capital of the\n",
      "U.S.\n",
      "I bought an oar and arrived in the land of the\n",
      "Golden Mountain.\n",
      "Who was to know they would banish me to\n",
      "Island?\n",
      "If my country had contrived to make herself\n",
      "strong, this never would have happened.\n",
      "Then when the ship had docked, we could\n",
      "have gone directly ashore.\n",
      "\n",
      "Just now the five nationalities in China have\n",
      "become one family,\n",
      "But the powers still have not yet recognized\n",
      "our China,\n",
      "Primarily because foreign debts were piling\n",
      "up.\n",
      "The foreigners pushed to control finances\n",
      "and to seize power.\n",
      "\n",
      "Being idle in the wooden building, I opened\n",
      "a window.\n",
      "The morning breeze and bright moon lingered\n",
      "together.\n",
      "I reminisce the native village far away, cut off\n",
      "by clouds and mountains.\n",
      "On the little island the wailing of cold, wild\n",
      "geese can be faintly heard.\n",
      "The hero who has lost his way can talk\n",
      "meaninglessly of the sword.\n",
      "The poet at the end of the road can only\n",
      "ascend a tower.\n",
      "One should know that when the country is\n",
      "weak, the people's spirit dies.\n",
      "Why else do we come to this place to be\n",
      "imprisoned?\n",
      "\n",
      "Twice I have passed through the blue ocean,\n",
      "experienced the wind and dust of journey.\n",
      "Confinement in the wooden building has\n",
      "pained me doubly.\n",
      "With a weak country, we must all join\n",
      "together in urgent effort.\n",
      "It depends on all of us together to roll back\n",
      "the wild wave.\n",
      "\n",
      "I lean on the railing and lift my head to look\n",
      "at the cloudy sky.\n",
      "All the mountains and rivers are dark.\n",
      "Eastern Mongolia is lost and the date of her\n",
      "return is uncertain.\n",
      "The recovery of the Central Plains depends\n",
      "on the youth.\n",
      "Only the tongue of Changshan can slay the\n",
      "villainous.\n",
      "To kill the bandit we must wave the whip of\n",
      "Zu Di.\n",
      "I am ashamed to be curled up like a worm\n",
      "on Island.\n",
      "I grieve for my native land but what else can\n",
      "I say?\n",
      "\n",
      "I have ten-thousand hopes that the\n",
      "revolutionary armies will complete their\n",
      "victory.\n",
      "And help make the mining enterprises\n",
      "successful in the ancestral land.\n",
      "They will build many battleships and come to\n",
      "the U.S. territory.\n",
      "Vowing never to stop till the white men are\n",
      "completely annihilated.\n",
      "\n",
      "The dragon out of water is humiliated by\n",
      "ants;\n",
      "The fierce tiger who is caged is baited by a\n",
      "child.\n",
      "As long as I am imprisoned, how can I dare\n",
      "strive for supremacy?\n",
      "An advantageous position for revenge will\n",
      "surely come one day.\n",
      "\n",
      "I left the village well behind me, bade\n",
      "farewell to my father and mother.\n",
      "Now I gaze at distant clouds and mountains,\n",
      "tears forming like pearls.\n",
      "The wandering son longed to be wealthy like\n",
      "Taozhu.\n",
      "Who would have known I would be\n",
      "imprisoned on Island?\n",
      "I beat my breast when I think of China and\n",
      "cry bitterly like Ruan Ji.\n",
      "Our country's wealth is being drained by\n",
      "foreigners, causing us to suffer national\n",
      "humiliations.\n",
      "My fellow countrymen, have foresight, plan\n",
      "to be resolute.\n",
      "And vow to conquer the U.S. and avenge\n",
      "previous wrongs!\n",
      "\n",
      "If the land of the Flowery Flag is occupied by\n",
      "us in turn.\n",
      "The wooden building will be left for the\n",
      "angel's revenge.\n",
      "\n",
      "If you have but one breath left, do not be\n",
      "discouraged from your purpose.\n",
      "I respectfully exhort my brothers who are all\n",
      "talents of Chu.\n",
      "Having a sense of shame, one can eradicate\n",
      "shame.\n",
      "Only by wielding the lance can one avoid\n",
      "certain defeat.\n",
      "Do not say that we have not the means to\n",
      "level the ugly barbarians.\n",
      "I am searching for a method that will turn\n",
      "destiny back.\n",
      "One-hundred-thousand men sharpen their\n",
      "swords.\n",
      "Swearing to behead the Loulan and open\n",
      "the grasslands and fallow fields.\n",
      "\n",
      "The low building with three beams merely\n",
      "shelters the body.\n",
      "It is unbearable to relate the stories\n",
      "accumulated on the Island slopes.\n",
      "Wait till the day I become successful and\n",
      "fulfill my wish!\n",
      "I will not speak of love when I level the\n",
      "immigration station!\n",
      "\n",
      "I am distressed that we Chinese are detained\n",
      "in this wooden building.\n",
      "It is actually racial barriers which cause\n",
      "difficulties on Yingtai Island.\n",
      "Even while they are tyrannical, they still\n",
      "claim to be humanitarian.\n",
      "I should regret my taking the risks of coming\n",
      "in the first place.\n",
      "\n",
      "I thoroughly hate the barbarians because they\n",
      "do not respect justice.\n",
      "They continually promulgate harsh laws to\n",
      "show off their prowess.\n",
      "They oppress the overseas Chinese and also\n",
      "violate treaties.\n",
      "They examine for hookworms and practice\n",
      "hundreds of despotic acts.\n",
      "\n",
      "I cannot bear to describe the harsh treatment\n",
      "by the doctors.\n",
      "Being stabbed for blood samples and\n",
      "examined for hookworms was even more\n",
      "pitiful.\n",
      "After taking the medicine, I also drank\n",
      "liquid,\n",
      "Like a dumb person eating the huanglian.\n",
      "\n"
     ]
    }
   ],
   "source": [
    "with open('data/islandpoetry1_22.txt', \"r\") as f:\n",
    "    raw = f.read()\n",
    "print(raw)"
   ]
  },
  {
   "cell_type": "markdown",
   "metadata": {},
   "source": [
    "We're interested in which words appear the most often in our set of poems. It's pretty hard to read or see much in this form. We'll coming back to the topic of what words are the most common with actual numbers a bit later but for now, run the following cell to generate two interesting visualizations of the most common words (minus those such as \"the\", \"a\", etc.). "
   ]
  },
  {
   "cell_type": "code",
   "execution_count": 7,
   "metadata": {
    "collapsed": false
   },
   "outputs": [
    {
     "ename": "NameError",
     "evalue": "name 'WordCloud' is not defined",
     "output_type": "error",
     "traceback": [
      "\u001b[0;31m---------------------------------------------------------------------------\u001b[0m",
      "\u001b[0;31mNameError\u001b[0m                                 Traceback (most recent call last)",
      "\u001b[0;32m<ipython-input-7-84191ceca6ce>\u001b[0m in \u001b[0;36m<module>\u001b[0;34m()\u001b[0m\n\u001b[0;32m----> 1\u001b[0;31m \u001b[0mwordcloud\u001b[0m \u001b[0;34m=\u001b[0m \u001b[0mWordCloud\u001b[0m\u001b[0;34m(\u001b[0m\u001b[0;34m)\u001b[0m\u001b[0;34m.\u001b[0m\u001b[0mgenerate\u001b[0m\u001b[0;34m(\u001b[0m\u001b[0mraw\u001b[0m\u001b[0;34m)\u001b[0m\u001b[0;34m\u001b[0m\u001b[0m\n\u001b[0m\u001b[1;32m      2\u001b[0m \u001b[0;34m\u001b[0m\u001b[0m\n\u001b[1;32m      3\u001b[0m \u001b[0mplt\u001b[0m\u001b[0;34m.\u001b[0m\u001b[0mimshow\u001b[0m\u001b[0;34m(\u001b[0m\u001b[0mwordcloud\u001b[0m\u001b[0;34m,\u001b[0m \u001b[0minterpolation\u001b[0m\u001b[0;34m=\u001b[0m\u001b[0;34m'bilinear'\u001b[0m\u001b[0;34m)\u001b[0m\u001b[0;34m\u001b[0m\u001b[0m\n\u001b[1;32m      4\u001b[0m \u001b[0mplt\u001b[0m\u001b[0;34m.\u001b[0m\u001b[0maxis\u001b[0m\u001b[0;34m(\u001b[0m\u001b[0;34m\"off\"\u001b[0m\u001b[0;34m)\u001b[0m\u001b[0;34m\u001b[0m\u001b[0m\n\u001b[1;32m      5\u001b[0m \u001b[0;34m\u001b[0m\u001b[0m\n",
      "\u001b[0;31mNameError\u001b[0m: name 'WordCloud' is not defined"
     ]
    }
   ],
   "source": [
    "wordcloud = WordCloud().generate(raw)\n",
    "\n",
    "plt.imshow(wordcloud, interpolation='bilinear')\n",
    "plt.axis(\"off\")\n",
    "\n",
    "# lower max_font_size\n",
    "wordcloud = WordCloud(max_font_size=40).generate(raw)\n",
    "plt.figure()\n",
    "plt.imshow(wordcloud, interpolation=\"bilinear\")\n",
    "plt.axis(\"off\")\n",
    "plt.show()"
   ]
  },
  {
   "cell_type": "markdown",
   "metadata": {},
   "source": [
    "<div class=\"alert alert-info\">\n",
    "Question: What are the most common words you notice? Judging from these words, what do you think these poems are about?\n",
    "</div>"
   ]
  },
  {
   "cell_type": "raw",
   "metadata": {},
   "source": [
    "# Replace this text with your response"
   ]
  },
  {
   "cell_type": "markdown",
   "metadata": {},
   "source": [
    "Oops, it seems we've forgotten just how many poems we have in our set. Luckily we have a quick way of finding out! Each \"\\n\" in the display of the poem text indicates a line break. It turns out that each poem is separated by an empty line, a.k.a. two line breaks or \"\\n\"'s."
   ]
  },
  {
   "cell_type": "code",
   "execution_count": null,
   "metadata": {
    "collapsed": true
   },
   "outputs": [],
   "source": [
    "num_poems = len(raw.split(\"\\n\\n\"))\n",
    "num_poems"
   ]
  },
  {
   "cell_type": "markdown",
   "metadata": {
    "collapsed": true
   },
   "source": [
    "We can also use this idea to calculate the number of characters in each poem."
   ]
  },
  {
   "cell_type": "code",
   "execution_count": null,
   "metadata": {
    "collapsed": true
   },
   "outputs": [],
   "source": [
    "num_char_per_poem = [len(p) for p in raw.split(\"\\n\\n\")]\n",
    "print(num_char_per_poem)"
   ]
  },
  {
   "cell_type": "markdown",
   "metadata": {},
   "source": [
    "This is interesting but seems like just a long list of numbers. What about the average number of characters per poem?"
   ]
  },
  {
   "cell_type": "code",
   "execution_count": null,
   "metadata": {
    "collapsed": true
   },
   "outputs": [],
   "source": [
    "np.mean(num_char_per_poem)"
   ]
  },
  {
   "cell_type": "markdown",
   "metadata": {},
   "source": [
    "Let's look at it in histogram form to get a better idea of our data."
   ]
  },
  {
   "cell_type": "code",
   "execution_count": null,
   "metadata": {
    "collapsed": true
   },
   "outputs": [],
   "source": [
    "Table().with_columns(\"Character Count\", np.asarray(num_char_per_poem)).hist()"
   ]
  },
  {
   "cell_type": "markdown",
   "metadata": {},
   "source": [
    "Each bar of this histogram tells us what proportion of the poems (the height of the bar) have that many characters (the position of the bar on the x-axis).\n",
    "\n",
    "We can also use \"\\n\" to look at [enjambment](https://en.wikipedia.org/wiki/Enjambment) too. Let's calculate the proportion of lines that are enjambed out of the total number of lines per poem. "
   ]
  },
  {
   "cell_type": "code",
   "execution_count": null,
   "metadata": {
    "collapsed": true
   },
   "outputs": [],
   "source": [
    "from string import punctuation\n",
    "\n",
    "poems = raw.split(\"\\n\\n\")\n",
    "\n",
    "all_poems_enjambment = []\n",
    "for p in poems:\n",
    "    lines = p.split(\"\\n\")\n",
    "    poems = raw.split(\"\\n\\n\")\n",
    "    enjambment = 0\n",
    "    for l in lines:\n",
    "        try:\n",
    "            if l[-1] in punctuation:\n",
    "                pass\n",
    "            else:\n",
    "                enjambment += 1\n",
    "        except:\n",
    "            pass\n",
    "    enj = enjambment/len(lines)\n",
    "    all_poems_enjambment.append(enj)\n",
    "\n",
    "print(all_poems_enjambment)"
   ]
  },
  {
   "cell_type": "markdown",
   "metadata": {},
   "source": [
    "Once again, what about the average?"
   ]
  },
  {
   "cell_type": "code",
   "execution_count": null,
   "metadata": {
    "collapsed": true
   },
   "outputs": [],
   "source": [
    "np.mean(all_poems_enjambment)"
   ]
  },
  {
   "cell_type": "markdown",
   "metadata": {},
   "source": [
    "Let's now return to the question of the words that appear the most frequently in these 49 poems. First we have to use spaCy, an open-source software library for Natural Language Processing (NLP), to parse through the text and replace all the \"\\n\"'s with spaces."
   ]
  },
  {
   "cell_type": "code",
   "execution_count": null,
   "metadata": {
    "collapsed": true
   },
   "outputs": [],
   "source": [
    "nlp = spacy.load('en', parser=False)\n",
    "parsed_text = nlp(raw.replace(\"\\n\", \" \"))"
   ]
  },
  {
   "cell_type": "markdown",
   "metadata": {},
   "source": [
    "We can separate all the words/symbols and put them in a table."
   ]
  },
  {
   "cell_type": "code",
   "execution_count": null,
   "metadata": {
    "collapsed": true
   },
   "outputs": [],
   "source": [
    "toks_tab = Table()\n",
    "toks_tab.append_column(label=\"Word\", values=[word.text for word in parsed_text])\n",
    "toks_tab.show()"
   ]
  },
  {
   "cell_type": "code",
   "execution_count": null,
   "metadata": {
    "collapsed": true
   },
   "outputs": [],
   "source": [
    "toks_tab.append_column(label=\"POS\", values=[word.pos_ for word in parsed_text])\n",
    "toks_tab.show()"
   ]
  },
  {
   "cell_type": "markdown",
   "metadata": {},
   "source": [
    "Now let's create a new table with even more columns using the \"tablefy\" function below."
   ]
  },
  {
   "cell_type": "code",
   "execution_count": null,
   "metadata": {
    "collapsed": true
   },
   "outputs": [],
   "source": [
    "def tablefy(parsed_text):\n",
    "    toks_tab = Table()\n",
    "    toks_tab.append_column(label=\"Word\", values=[word.text for word in parsed_text])\n",
    "    toks_tab.append_column(label=\"POS\", values=[word.pos_ for word in parsed_text])\n",
    "    toks_tab.append_column(label=\"Lemma\", values=[word.lemma_ for word in parsed_text])\n",
    "    toks_tab.append_column(label=\"Stop Word\", values=[word.is_stop for word in parsed_text])\n",
    "    toks_tab.append_column(label=\"Punctuation\", values=[word.is_punct for word in parsed_text])\n",
    "    toks_tab.append_column(label=\"Space\", values=[word.is_space for word in parsed_text])\n",
    "    toks_tab.append_column(label=\"Number\", values=[word.like_num for word in parsed_text])\n",
    "    toks_tab.append_column(label=\"OOV\", values=[word.is_oov for word in parsed_text])\n",
    "    toks_tab.append_column(label=\"Dependency\", values=[word.dep_ for word in parsed_text])\n",
    "    return toks_tab"
   ]
  },
  {
   "cell_type": "code",
   "execution_count": null,
   "metadata": {
    "collapsed": true
   },
   "outputs": [],
   "source": [
    "tablefy(parsed_text).show()"
   ]
  },
  {
   "cell_type": "markdown",
   "metadata": {},
   "source": [
    "Next, let's look at the frequency of words. However, we want to get rid of words such as \"the\" and \"and\" (stop words), punctuation, and spaces. We can do this by selecting rows that are not stop words, punctuation, or spaces and then sorting by word!"
   ]
  },
  {
   "cell_type": "code",
   "execution_count": null,
   "metadata": {
    "collapsed": true
   },
   "outputs": [],
   "source": [
    "word_counts = tablefy(parsed_text).where(\"Stop Word\", are.equal_to(False)).where(\n",
    "    \"Punctuation\", are.equal_to(False)).where(\n",
    "    \"Space\", are.equal_to(False)).group(\"Word\").sort(\"count\",descending=True)\n",
    "word_counts"
   ]
  },
  {
   "cell_type": "markdown",
   "metadata": {},
   "source": [
    "In this table, we have both the words \"sad\" and \"sadness\" - it seems strange to separate them. It turns out that these words are part of the same \"lexeme\", or a unit of meaning. For example, \"run\", \"runs\", \"ran\", and \"running\" are all part of the same lexeme with the lemma 'run'. Lemmas are another column in our table from above! Nice!"
   ]
  },
  {
   "cell_type": "code",
   "execution_count": null,
   "metadata": {
    "collapsed": true
   },
   "outputs": [],
   "source": [
    "lemma_counts = tablefy(parsed_text).where(\"Stop Word\", are.equal_to(False)).where(\n",
    "    \"Punctuation\", are.equal_to(False)).where(\n",
    "    \"Space\", are.equal_to(False)).group(\"Lemma\").sort(\"count\",descending=True)\n",
    "lemma_counts"
   ]
  },
  {
   "cell_type": "markdown",
   "metadata": {},
   "source": [
    "Now let's look at how many words there are of each part of speech."
   ]
  },
  {
   "cell_type": "code",
   "execution_count": null,
   "metadata": {
    "collapsed": true
   },
   "outputs": [],
   "source": [
    "pos_counts = tablefy(parsed_text).where(\"Stop Word\", are.equal_to(False)).where(\n",
    "    \"Punctuation\", are.equal_to(False)).where(\n",
    "    \"Space\", are.equal_to(False)).group(\"POS\").sort(\"count\",descending=True)\n",
    "pos_counts"
   ]
  },
  {
   "cell_type": "markdown",
   "metadata": {},
   "source": [
    "We can also look at the proportions of each POS out of all the words!"
   ]
  },
  {
   "cell_type": "code",
   "execution_count": null,
   "metadata": {
    "collapsed": true
   },
   "outputs": [],
   "source": [
    "for i in np.arange(pos_counts.num_rows):\n",
    "    pos = pos_counts.column(\"POS\").item(i)\n",
    "    count = pos_counts.column(\"count\").item(i)\n",
    "    total = np.sum(pos_counts.column(\"count\"))\n",
    "    proportion = str(count / total)\n",
    "    print(pos + \" proportion: \" + proportion)"
   ]
  },
  {
   "cell_type": "markdown",
   "metadata": {},
   "source": [
    "If we're interested in words' relations with each other, we can look at words that are next to each other. The function below returns the word following the first instance of the word you search for in the specified source."
   ]
  },
  {
   "cell_type": "code",
   "execution_count": null,
   "metadata": {
    "collapsed": true
   },
   "outputs": [],
   "source": [
    "def nextword(word, source):\n",
    "    for i, w in enumerate(source):\n",
    "        if w == word:\n",
    "            return source[i+1]"
   ]
  },
  {
   "cell_type": "markdown",
   "metadata": {},
   "source": [
    "Mess around a bit with this function! Change the \"word\" argument."
   ]
  },
  {
   "cell_type": "code",
   "execution_count": null,
   "metadata": {
    "collapsed": true
   },
   "outputs": [],
   "source": [
    "split_txt = raw.split()\n",
    "\n",
    "# Change the target or \"home\" to other words!\n",
    "nextword(\"home\", split_txt)"
   ]
  },
  {
   "cell_type": "markdown",
   "metadata": {},
   "source": [
    "We are specifically interested in the word \"I\" and the words that poets use in succession. Let's make an array of all the words that come after it in these poems. For easier viewing, the phrases have been printed out. What do you notice?"
   ]
  },
  {
   "cell_type": "code",
   "execution_count": null,
   "metadata": {
    "collapsed": true
   },
   "outputs": [],
   "source": [
    "one_after_i = make_array()\n",
    "for i, w in enumerate(split_txt):\n",
    "    if w == \"I\":\n",
    "        one_after_i = np.append(one_after_i, split_txt[i+1])\n",
    "for i in one_after_i:\n",
    "    print(\"I \" + i)"
   ]
  },
  {
   "cell_type": "markdown",
   "metadata": {},
   "source": [
    "Above we have only shown the next word, what about the next two words? Does this give you any new insight?"
   ]
  },
  {
   "cell_type": "code",
   "execution_count": null,
   "metadata": {
    "collapsed": true
   },
   "outputs": [],
   "source": [
    "two_after_i = make_array()\n",
    "for i, w in enumerate(split_txt):\n",
    "    if w == \"I\":\n",
    "        two_after_i = np.append(two_after_i, split_txt[i+1] + \" \" + split_txt[i+2])\n",
    "for i in two_after_i:\n",
    "    print(\"I \" + i)"
   ]
  },
  {
   "cell_type": "markdown",
   "metadata": {},
   "source": [
    "Try doing some exploring of your own! If you're feeling stuck, feel free to copy and edit code from above."
   ]
  },
  {
   "cell_type": "code",
   "execution_count": null,
   "metadata": {
    "collapsed": true
   },
   "outputs": [],
   "source": [
    "# Write your own code here!"
   ]
  },
  {
   "cell_type": "markdown",
   "metadata": {},
   "source": [
    "### Sentiment Analysis\n",
    "\n",
    "We can do some analysis of the overall sentiments, or emotions conveyed, in each of the poems using the code below. Here, we analyze the overall sentiment of each poem individually. Once you run the next cell, you'll see the sentiment values for each poem. A value below 0 denotes a negative sentiment, and a value above 0 is positive."
   ]
  },
  {
   "cell_type": "code",
   "execution_count": null,
   "metadata": {
    "collapsed": true
   },
   "outputs": [],
   "source": [
    "sentiments = make_array()\n",
    "for p in poems:\n",
    "    poem = TextBlob(p)\n",
    "    sentiments = np.append(sentiments, poem.sentiment.polarity)\n",
    "sentiments"
   ]
  },
  {
   "cell_type": "markdown",
   "metadata": {},
   "source": [
    "Now, what does this mean? It appears that the number of poems with negative sentiment is about the same as the number of poems with positive or neutral (0) sentiment. We can look at the proportion of negative poems in the next cell:"
   ]
  },
  {
   "cell_type": "code",
   "execution_count": null,
   "metadata": {
    "collapsed": true
   },
   "outputs": [],
   "source": [
    "neg_proportion = np.count_nonzero(sentiments < 0)/len(sentiments)\n",
    "neg_proportion"
   ]
  },
  {
   "cell_type": "markdown",
   "metadata": {},
   "source": [
    "Okay, so just under half of the poems have negative sentiment. So, on average the poems have slightly positive sentiment, right?\n",
    "\n",
    "We can also perform sentiment analysis across the text of all of the poems at once and see what happens:"
   ]
  },
  {
   "cell_type": "code",
   "execution_count": null,
   "metadata": {
    "collapsed": true
   },
   "outputs": [],
   "source": [
    "poems_all = TextBlob(raw.replace('\\n', ' '))\n",
    "poems_all.sentiment.polarity"
   ]
  },
  {
   "cell_type": "markdown",
   "metadata": {},
   "source": [
    "This way of analyzing the text tells us that the language in all of the poems has slightly negative sentiment.\n",
    "\n",
    "One more analysis we can perform is computing the average sentiment of the poems, given the list of each individual poem's sentiments that we computed earlier:"
   ]
  },
  {
   "cell_type": "code",
   "execution_count": null,
   "metadata": {
    "collapsed": true
   },
   "outputs": [],
   "source": [
    "np.mean(sentiments)"
   ]
  },
  {
   "cell_type": "markdown",
   "metadata": {},
   "source": [
    "This method also tells us that our poems have slightly negative sentiment, on average.\n",
    "\n",
    "Here, let's look at one of the poems with it's sentiment value:"
   ]
  },
  {
   "cell_type": "code",
   "execution_count": null,
   "metadata": {
    "collapsed": true
   },
   "outputs": [],
   "source": [
    "poem_3 = poems[3].replace('\\n', ' ')\n",
    "print(poem_3)\n",
    "print(TextBlob(poem_3).sentiment.polarity)"
   ]
  },
  {
   "cell_type": "markdown",
   "metadata": {},
   "source": [
    "Let's look at one more poem:"
   ]
  },
  {
   "cell_type": "code",
   "execution_count": null,
   "metadata": {
    "collapsed": true
   },
   "outputs": [],
   "source": [
    "poem_47 = poems[47].replace('\\n', ' ')\n",
    "print(poem_47)\n",
    "print(TextBlob(poem_47).sentiment.polarity)"
   ]
  },
  {
   "cell_type": "markdown",
   "metadata": {},
   "source": [
    "<div class=\"alert alert-info\">\n",
    "Question: Do you think the sentiment analyzer did a good job assigning the sentiment to these poems? What might that mean for the trends we see in our average sentiment across the poems?\n",
    "</div>"
   ]
  },
  {
   "cell_type": "raw",
   "metadata": {},
   "source": [
    "# Replace this text with your response"
   ]
  },
  {
   "cell_type": "markdown",
   "metadata": {},
   "source": [
    "---\n",
    "\n",
    "***Please fill out our [feedback form](https://goo.gl/forms/Ir0Ulg5WDQogHhK72)!***"
   ]
  }
 ],
 "metadata": {
  "anaconda-cloud": {},
  "kernelspec": {
   "display_name": "Python 3",
   "language": "python",
   "name": "python3"
  },
  "language_info": {
   "codemirror_mode": {
    "name": "ipython",
    "version": 3
   },
   "file_extension": ".py",
   "mimetype": "text/x-python",
   "name": "python",
   "nbconvert_exporter": "python",
   "pygments_lexer": "ipython3",
   "version": "3.6.0"
  }
 },
 "nbformat": 4,
 "nbformat_minor": 2
}
