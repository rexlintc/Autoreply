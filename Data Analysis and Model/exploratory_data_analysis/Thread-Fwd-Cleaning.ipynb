{
 "cells": [
  {
   "cell_type": "markdown",
   "metadata": {},
   "source": [
    "# Thread/Forward Cleaning"
   ]
  },
  {
   "cell_type": "code",
   "execution_count": 1,
   "metadata": {
    "collapsed": true
   },
   "outputs": [],
   "source": [
    "import pandas as pd"
   ]
  },
  {
   "cell_type": "code",
   "execution_count": 2,
   "metadata": {
    "collapsed": true
   },
   "outputs": [],
   "source": [
    "keiko = pd.read_csv('../data/keiko_categorized.csv')\n",
    "rohan = pd.read_csv('../data/rohan_labeled.csv')\n",
    "joyce = pd.read_csv('../data/joyce_labeled.csv')\n",
    "fatou = pd.read_csv('../data/fatou_relabeled.csv')\n",
    "kristian = pd.read_csv('../data/kristian_labeled.csv')"
   ]
  },
  {
   "cell_type": "code",
   "execution_count": 3,
   "metadata": {
    "collapsed": true
   },
   "outputs": [],
   "source": [
    "joyce = pd.read_csv('../data/joyce_labeled.csv')"
   ]
  },
  {
   "cell_type": "code",
   "execution_count": 4,
   "metadata": {
    "collapsed": true
   },
   "outputs": [],
   "source": [
    "count2 = fatou.Body"
   ]
  },
  {
   "cell_type": "code",
   "execution_count": 5,
   "metadata": {
    "collapsed": true
   },
   "outputs": [],
   "source": [
    "import re"
   ]
  },
  {
   "cell_type": "code",
   "execution_count": 6,
   "metadata": {
    "collapsed": true
   },
   "outputs": [],
   "source": [
    "expr2 = \"on [.]{3} [.]{1,2}, [.]{4}, [.]{1,2}:[.]{1,2} [.]{2}.*\""
   ]
  },
  {
   "cell_type": "code",
   "execution_count": 7,
   "metadata": {
    "collapsed": true
   },
   "outputs": [],
   "source": [
    "expr1 = \"on [.]{3} [.]{1,2}, [.]{4}.*\""
   ]
  },
  {
   "cell_type": "code",
   "execution_count": 8,
   "metadata": {
    "collapsed": true
   },
   "outputs": [],
   "source": [
    "expr3 = \"on .{3}, .{3} .{1,2}, .{4}, .{1,2}:.{1,2}.*\""
   ]
  },
  {
   "cell_type": "code",
   "execution_count": 9,
   "metadata": {
    "collapsed": true
   },
   "outputs": [],
   "source": [
    "expr4 = \"on .{6,9}, .{3,9} .{1,2}, .{4}.*\""
   ]
  },
  {
   "cell_type": "code",
   "execution_count": 10,
   "metadata": {
    "collapsed": true
   },
   "outputs": [],
   "source": [
    "expr5 = \"on .{3} .{1,2}, .{4}.*\""
   ]
  },
  {
   "cell_type": "code",
   "execution_count": 11,
   "metadata": {
    "collapsed": true
   },
   "outputs": [],
   "source": [
    "expr6 = \"on .{3}, .{3} .{1,2}, .{4}.*\""
   ]
  },
  {
   "cell_type": "code",
   "execution_count": 12,
   "metadata": {
    "collapsed": true
   },
   "outputs": [],
   "source": [
    "expr7 = \".{3}年.{1,2}月.{1,2}日 下..{1,2}:.{1,2}.*\""
   ]
  },
  {
   "cell_type": "code",
   "execution_count": 13,
   "metadata": {
    "collapsed": true
   },
   "outputs": [],
   "source": [
    "expr8 = \"begin forwarded me|begin forwarded message|sent with mailtrack\""
   ]
  },
  {
   "cell_type": "code",
   "execution_count": 14,
   "metadata": {
    "collapsed": true
   },
   "outputs": [],
   "source": [
    "expr9 = \".*--- forwarded message?\""
   ]
  },
  {
   "cell_type": "code",
   "execution_count": 15,
   "metadata": {
    "collapsed": true
   },
   "outputs": [],
   "source": [
    "expr10 = \".*--- forwarded message .*subject:\""
   ]
  },
  {
   "cell_type": "code",
   "execution_count": 16,
   "metadata": {
    "collapsed": true
   },
   "outputs": [],
   "source": [
    "expr11 = \".. .. ..., .... .{1,2}, .{4} . ... .{1,2}:.{1,2}.*\""
   ]
  },
  {
   "cell_type": "code",
   "execution_count": 17,
   "metadata": {
    "collapsed": true
   },
   "outputs": [],
   "source": [
    "expr12 = \"on .{1,2} .{3} .{4}, at .{1,2}:.{1,2}.*\""
   ]
  },
  {
   "cell_type": "code",
   "execution_count": 18,
   "metadata": {
    "collapsed": true
   },
   "outputs": [],
   "source": [
    "expression = expr1+\"|\"+expr2+\"|\"+expr3+\"|\"+expr4+\"|\"+expr5+\"|\"+expr6+\"|\"+expr7+\"|\"+expr8+\"|\"+expr10+\"|\"+expr9+\"|\"+expr11+\"|\"+expr12"
   ]
  },
  {
   "cell_type": "code",
   "execution_count": 19,
   "metadata": {},
   "outputs": [
    {
     "data": {
      "text/plain": [
       "'on [.]{3} [.]{1,2}, [.]{4}.*|on [.]{3} [.]{1,2}, [.]{4}, [.]{1,2}:[.]{1,2} [.]{2}.*|on .{3}, .{3} .{1,2}, .{4}, .{1,2}:.{1,2}.*|on .{6,9}, .{3,9} .{1,2}, .{4}.*|on .{3} .{1,2}, .{4}.*|on .{3}, .{3} .{1,2}, .{4}.*|.{3}年.{1,2}月.{1,2}日 下..{1,2}:.{1,2}.*|begin forwarded me|begin forwarded message|sent with mailtrack|.*--- forwarded message .*subject:|.*--- forwarded message?|.. .. ..., .... .{1,2}, .{4} . ... .{1,2}:.{1,2}.*|on .{1,2} .{3} .{4}, at .{1,2}:.{1,2}.*'"
      ]
     },
     "execution_count": 19,
     "metadata": {},
     "output_type": "execute_result"
    }
   ],
   "source": [
    "expression"
   ]
  },
  {
   "cell_type": "code",
   "execution_count": 20,
   "metadata": {
    "collapsed": true
   },
   "outputs": [],
   "source": [
    "def remove_xtra(content):\n",
    "    return re.sub(expression, '', content)"
   ]
  },
  {
   "cell_type": "code",
   "execution_count": 21,
   "metadata": {
    "collapsed": true
   },
   "outputs": [],
   "source": [
    "joyce['Body'] = joyce['Body'].fillna('')"
   ]
  },
  {
   "cell_type": "code",
   "execution_count": 22,
   "metadata": {
    "collapsed": true
   },
   "outputs": [],
   "source": [
    "joyce.Body = kristian.Body.apply(remove_xtra)"
   ]
  },
  {
   "cell_type": "code",
   "execution_count": 23,
   "metadata": {},
   "outputs": [],
   "source": [
    "content = kristian['Body']\n",
    "#for i, em in enumerate(content):\n",
    "    #print('EMAIL!!! ', i+1, '\\n','  ', em, '\\n')"
   ]
  },
  {
   "cell_type": "code",
   "execution_count": 24,
   "metadata": {},
   "outputs": [
    {
     "data": {
      "text/plain": [
       "304"
      ]
     },
     "execution_count": 24,
     "metadata": {},
     "output_type": "execute_result"
    }
   ],
   "source": [
    "len(fatou.Body)"
   ]
  },
  {
   "cell_type": "code",
   "execution_count": 25,
   "metadata": {
    "collapsed": true
   },
   "outputs": [],
   "source": [
    "kristian.Body = kristian.Body.dropna()"
   ]
  },
  {
   "cell_type": "code",
   "execution_count": 26,
   "metadata": {},
   "outputs": [
    {
     "data": {
      "text/plain": [
       "304"
      ]
     },
     "execution_count": 26,
     "metadata": {},
     "output_type": "execute_result"
    }
   ],
   "source": [
    "len(kristian.Body)"
   ]
  },
  {
   "cell_type": "code",
   "execution_count": 27,
   "metadata": {
    "collapsed": true
   },
   "outputs": [],
   "source": [
    "keiko.to_csv('../data/keiko_categorized.csv', index=False, sep = ',', encoding='utf-8')"
   ]
  },
  {
   "cell_type": "code",
   "execution_count": 28,
   "metadata": {
    "collapsed": true
   },
   "outputs": [],
   "source": [
    "rohan.to_csv('../data/rohan_labeled.csv', index=False, sep = ',', encoding='utf-8')"
   ]
  },
  {
   "cell_type": "code",
   "execution_count": 29,
   "metadata": {
    "collapsed": true
   },
   "outputs": [],
   "source": [
    "joyce.to_csv('../data/joyce_labeled.csv', index=False, sep = ',', encoding='utf-8')"
   ]
  },
  {
   "cell_type": "code",
   "execution_count": 30,
   "metadata": {
    "collapsed": true
   },
   "outputs": [],
   "source": [
    "fatou.to_csv('../data/fatou_relabeled.csv', index=False, sep = ',', encoding='utf-8')"
   ]
  },
  {
   "cell_type": "code",
   "execution_count": 31,
   "metadata": {
    "collapsed": true
   },
   "outputs": [],
   "source": [
    "kristian.to_csv('../data/kristian_labeled.csv',  index=False, sep = ',', encoding='utf-8')"
   ]
  },
  {
   "cell_type": "markdown",
   "metadata": {},
   "source": [
    "# Recombine csv's"
   ]
  },
  {
   "cell_type": "code",
   "execution_count": 32,
   "metadata": {
    "collapsed": true
   },
   "outputs": [],
   "source": [
    "import pandas as pd"
   ]
  },
  {
   "cell_type": "code",
   "execution_count": 33,
   "metadata": {
    "collapsed": true
   },
   "outputs": [],
   "source": [
    "keiko = pd.read_csv('../data/keiko_categorized.csv')\n",
    "rohan = pd.read_csv('../data/rohan_labeled.csv')\n",
    "joyce = pd.read_csv('../data/joyce_labeled.csv')\n",
    "fatou = pd.read_csv('../data/fatou_relabeled.csv')\n",
    "kristian = pd.read_csv('../data/kristian_labeled.csv')"
   ]
  },
  {
   "cell_type": "code",
   "execution_count": 38,
   "metadata": {
    "scrolled": true
   },
   "outputs": [],
   "source": [
    "#keiko.head()"
   ]
  },
  {
   "cell_type": "code",
   "execution_count": 39,
   "metadata": {
    "collapsed": true
   },
   "outputs": [],
   "source": [
    "pd.concat?"
   ]
  },
  {
   "cell_type": "code",
   "execution_count": 40,
   "metadata": {
    "collapsed": true
   },
   "outputs": [],
   "source": [
    "dfs = [rohan, keiko, fatou, kristian, joyce]"
   ]
  },
  {
   "cell_type": "code",
   "execution_count": 41,
   "metadata": {
    "collapsed": true
   },
   "outputs": [],
   "source": [
    "together = pd.concat(dfs)"
   ]
  },
  {
   "cell_type": "code",
   "execution_count": 42,
   "metadata": {
    "collapsed": true
   },
   "outputs": [],
   "source": [
    "#together.to_csv('../data/recombined.csv', index=False, sep = ',', encoding='utf-8')"
   ]
  },
  {
   "cell_type": "code",
   "execution_count": null,
   "metadata": {
    "collapsed": true
   },
   "outputs": [],
   "source": []
  }
 ],
 "metadata": {
  "kernelspec": {
   "display_name": "Python 3",
   "language": "python",
   "name": "python3"
  },
  "language_info": {
   "codemirror_mode": {
    "name": "ipython",
    "version": 3
   },
   "file_extension": ".py",
   "mimetype": "text/x-python",
   "name": "python",
   "nbconvert_exporter": "python",
   "pygments_lexer": "ipython3",
   "version": "3.6.1"
  }
 },
 "nbformat": 4,
 "nbformat_minor": 2
}
