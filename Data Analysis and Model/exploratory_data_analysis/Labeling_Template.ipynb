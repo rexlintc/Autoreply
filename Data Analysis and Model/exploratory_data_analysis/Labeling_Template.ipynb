{
 "cells": [
  {
   "cell_type": "markdown",
   "metadata": {},
   "source": [
    "# Labeling\n",
    "\n",
    "Hopefully this notebook should make the tedious task of labeling as painless as possible for you all.\n",
    "\n",
    "---\n",
    "### BEFORE YOU START: Rename your Jupyter Notebook so it doesn't cause merge conflicts.\n",
    "\n",
    "__We will assign numbers to each category as follows:__\n",
    "1. `miscl.` -- Any miscellaneous emails that don't belong to one of the categories above (anything that we can't generate a generic response to)\n",
    "2. `conflicts` -- Anything related to midterm/final scheduling conflicts\n",
    "3. `attendance` -- Anything related to attendance of labs,disc,lec,etc\n",
    "4. `assignments` -- Anything related to homework/lab assignments (e.g. submissions, excuses, regrade requests)\n",
    "5. `enrollment` -- Anything related to Calcentral/course enrollment issues\n",
    "6. `internal`-- Anything related to course logistics, hiring (interviews), or other internal administrative issues\n",
    "7. `dsp` -- Anything related to dsp letters or accommodations\n",
    "\n",
    "__Keep in mind:__\n",
    "\n",
    "As you read through the emails, treat all emails independently from each other, even if it's in the same thread so we don't accidently classify an email as something if it doesn't actually contain indicators that it belongs in a category!\n",
    "\n",
    "__Example:__\n",
    "\n",
    "Email 1: \"okay thanks, i will email you closer to the exam date. as a heads up you will be escorted by a ta from your 294 class to the dsp exam room (it will be in the dsp exam room because of this special circumstance) i.e. you won't have time to go home/take a break if you are accepting this accommodation. please confirm  best\"\n",
    "\n",
    "Email 2: \"got it. i hope this reply serves as confirmation.  thanks\"\n",
    "\n",
    "The first email should be classified as 7 ('DSP') because from just its content alone, that would be our best guess. If we read the earlier thread, we'd know it has to do with Midterm Conflicts, but try not to let that bias your classification to best help our model. Likewise, the second email should be 1 ('miscl') even though we know from the threat the context."
   ]
  },
  {
   "cell_type": "code",
   "execution_count": null,
   "metadata": {
    "collapsed": true
   },
   "outputs": [],
   "source": [
    "import pandas as pd"
   ]
  },
  {
   "cell_type": "code",
   "execution_count": null,
   "metadata": {
    "collapsed": true
   },
   "outputs": [],
   "source": [
    "#read emails from csv into dataframe\n",
    "#Replace **YOUR_NAME**\n",
    "emails = pd.read_csv('../data/**YOUR_NAME**_label.csv')\n",
    "emails.head()"
   ]
  },
  {
   "cell_type": "code",
   "execution_count": null,
   "metadata": {},
   "outputs": [],
   "source": [
    "#display all emails\n",
    "for i, em in enumerate(content):\n",
    "    print('EMAIL!!!', i, '\\n', '   ', em, '\\n')"
   ]
  },
  {
   "cell_type": "code",
   "execution_count": null,
   "metadata": {
    "collapsed": true
   },
   "outputs": [],
   "source": [
    "#Each list should contain ten numbers -- each number corresponds to a category as listed above. \n",
    "#For ex, l0 contains the classifications for emails 0-9.\n",
    "#See Keiko or Rohan's notebook for an example of how this is done.\n",
    "\n",
    "l0 = []\n",
    "l1 = []\n",
    "l2 = []\n",
    "l3 = []\n",
    "l4 = []\n",
    "l5 = []\n",
    "l6 = []\n",
    "l7 = []\n",
    "l8 = []\n",
    "l9 = []\n",
    "l10 = []\n",
    "l11 = []\n",
    "l12 = []\n",
    "l13 = []\n",
    "l14 = []\n",
    "l15 = []\n",
    "l16 = []\n",
    "l17 = []\n",
    "l18 = []\n",
    "l19 = []\n",
    "l20 = []\n",
    "l21 = []\n",
    "l22 = []\n",
    "l23 = []\n",
    "l24 = []\n",
    "l25 = []\n",
    "l26 = []\n",
    "l27 = []\n",
    "l28 = []\n",
    "l29 = []\n",
    "l30 = []"
   ]
  },
  {
   "cell_type": "code",
   "execution_count": null,
   "metadata": {},
   "outputs": [],
   "source": [
    "l = l0+l1+l2+l3+l4+l5+l6+l7+l8+l9+l10+l11+l12+l13+l14+l15+l16+l17+l18+l19+l20+l21+l22+l23+l24+l25+l26+l27+l28+l29+l30\n",
    "len(l)"
   ]
  },
  {
   "cell_type": "code",
   "execution_count": null,
   "metadata": {
    "collapsed": true
   },
   "outputs": [],
   "source": [
    "emails['Category'] = l"
   ]
  },
  {
   "cell_type": "code",
   "execution_count": null,
   "metadata": {},
   "outputs": [],
   "source": [
    "emails.iloc[:,[0,6,7]]"
   ]
  },
  {
   "cell_type": "code",
   "execution_count": null,
   "metadata": {
    "collapsed": true
   },
   "outputs": [],
   "source": [
    "#replace **YOUR_NAME**\n",
    "\n",
    "#emails.to_csv('../data/**YOUR_NAME**_labeled.csv', index=False, sep=',', encoding='utf-8')"
   ]
  },
  {
   "cell_type": "code",
   "execution_count": null,
   "metadata": {
    "collapsed": true
   },
   "outputs": [],
   "source": []
  }
 ],
 "metadata": {
  "kernelspec": {
   "display_name": "Python 3",
   "language": "python",
   "name": "python3"
  },
  "language_info": {
   "codemirror_mode": {
    "name": "ipython",
    "version": 3
   },
   "file_extension": ".py",
   "mimetype": "text/x-python",
   "name": "python",
   "nbconvert_exporter": "python",
   "pygments_lexer": "ipython3",
   "version": "3.6.3"
  }
 },
 "nbformat": 4,
 "nbformat_minor": 2
}
