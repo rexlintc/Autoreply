{
 "cells": [
  {
   "cell_type": "markdown",
   "metadata": {},
   "source": [
    "# Labeling\n",
    "\n",
    "---\n",
    "\n",
    "### BEFORE YOU START: Rename your Jupyter Notebook so it doesn't cause merge conflicts\n",
    "\n",
    "We will __assign numbers__ to each categoy as follows:\n",
    "1. `miscl.` -- Any miscelaneous emails that don't belong to one of the categories above: anything that we can't generate a generic response to should go here (eg. attendance issues, cheating, emergencies, medical stuff, ...)\n",
    "2. `conflicts` -- Anything related to midterm/final scheduling conflicts\n",
    "3. `attendance` -- Anything related to attendance of labs/disc/lec\n",
    "4. `assignments` -- Anything related to homework/lab assignments (e.g. submissions, excuses, regrade requests)\n",
    "5. `enrollment` -- Anything related to Calcentral/course enrollment issues\n",
    "6. `internal` -- Anything related to course logistics, hiring (interviews) or other internal adminitrative issues\n",
    "7. `DSP` -- Anything related to dsp\n",
    "\n",
    "\n",
    "---\n",
    "\n",
    "__Keep in mind:__\n",
    "\n",
    "As you read through the emails, treat all emails independently from each other, even if it's in the same thread so we don't accidently classify an email as something if it doesn't actually contain indicators that it belongs in a category!\n",
    "\n",
    "__Example:__\n",
    "\n",
    "Email 1: \"okay thanks, i will email you closer to the exam date. as a heads up you will be escorted by a ta from your 294 class to the dsp exam room (it will be in the dsp exam room because of this special circumstance) i.e. you won't have time to go home/take a break if you are accepting this accommodation. please confirm  best\"\n",
    "\n",
    "Email 2: \"got it. i hope this reply serves as confirmation.  thanks\"\n",
    "\n",
    "The first email should be classified as 7 ('DSP') because from just its content alone, that would be our best guess. If we read the earlier thread, we'd know it has to do with Midterm Conflicts, but try not to let that bias your classification to best help our model. Likewise, the second email should be 1 ('miscl') even though we know from the threat the context."
   ]
  },
  {
   "cell_type": "code",
   "execution_count": 1,
   "metadata": {
    "collapsed": true
   },
   "outputs": [],
   "source": [
    "import pandas as pd"
   ]
  },
  {
   "cell_type": "code",
   "execution_count": 2,
   "metadata": {
    "collapsed": true
   },
   "outputs": [],
   "source": [
    "emails = pd.read_csv('..\\data\\keiko_label.csv')"
   ]
  },
  {
   "cell_type": "code",
   "execution_count": 3,
   "metadata": {},
   "outputs": [],
   "source": [
    "#for i, em in enumerate(content):\n",
    "    #print('EMAIL!!! ', i+1, '\\n','  ', em, '\\n')"
   ]
  },
  {
   "cell_type": "code",
   "execution_count": 4,
   "metadata": {
    "collapsed": true
   },
   "outputs": [],
   "source": [
    "# For reference\n",
    "# 1. `miscl.` 2. `conflicts` 3. `~deprecated~` 4. `hw`  5. `enrollment` 6. `internal` 7. `DSP` "
   ]
  },
  {
   "cell_type": "code",
   "execution_count": 7,
   "metadata": {},
   "outputs": [],
   "source": [
    "l = l1+l2+l3+l4+l5+l6+l7+l8+l9+l10+l11+l12+l13+l14+l15+l16+l17+l18+l19+l20+l21+l22+l23+l24+l25+l26+l27+l28+l29+l30+l31"
   ]
  },
  {
   "cell_type": "code",
   "execution_count": 8,
   "metadata": {
    "collapsed": true
   },
   "outputs": [],
   "source": [
    "emails['Category'] = l"
   ]
  },
  {
   "cell_type": "code",
   "execution_count": 9,
   "metadata": {
    "collapsed": true
   },
   "outputs": [],
   "source": [
    "emails.to_csv('../data/keiko_categorized.csv', index=False, sep = ',', encoding='utf-8')"
   ]
  },
  {
   "cell_type": "code",
   "execution_count": 10,
   "metadata": {
    "collapsed": true
   },
   "outputs": [],
   "source": [
    "cat = pd.read_csv('../data/keiko_categorized.csv')"
   ]
  },
  {
   "cell_type": "code",
   "execution_count": 11,
   "metadata": {},
   "outputs": [
    {
     "data": {
      "text/plain": [
       "[9,\n",
       " 12,\n",
       " 17,\n",
       " 19,\n",
       " 28,\n",
       " 29,\n",
       " 30,\n",
       " 31,\n",
       " 32,\n",
       " 33,\n",
       " 34,\n",
       " 35,\n",
       " 36,\n",
       " 37,\n",
       " 40,\n",
       " 41,\n",
       " 44,\n",
       " 46,\n",
       " 47,\n",
       " 48,\n",
       " 54,\n",
       " 55,\n",
       " 61,\n",
       " 63,\n",
       " 64,\n",
       " 65,\n",
       " 69,\n",
       " 70,\n",
       " 71,\n",
       " 72,\n",
       " 76,\n",
       " 80,\n",
       " 84,\n",
       " 86,\n",
       " 90,\n",
       " 91,\n",
       " 96,\n",
       " 100,\n",
       " 106,\n",
       " 107,\n",
       " 113,\n",
       " 115,\n",
       " 121,\n",
       " 131,\n",
       " 134,\n",
       " 138,\n",
       " 147,\n",
       " 157,\n",
       " 167,\n",
       " 176,\n",
       " 179,\n",
       " 180,\n",
       " 181,\n",
       " 185,\n",
       " 201,\n",
       " 202,\n",
       " 213,\n",
       " 218,\n",
       " 219,\n",
       " 220,\n",
       " 221,\n",
       " 239,\n",
       " 240,\n",
       " 243,\n",
       " 246,\n",
       " 247,\n",
       " 248,\n",
       " 250,\n",
       " 270,\n",
       " 273,\n",
       " 274,\n",
       " 280,\n",
       " 282,\n",
       " 283,\n",
       " 289,\n",
       " 290,\n",
       " 291,\n",
       " 292,\n",
       " 293,\n",
       " 294,\n",
       " 295,\n",
       " 296,\n",
       " 297,\n",
       " 300,\n",
       " 301,\n",
       " 302]"
      ]
     },
     "execution_count": 11,
     "metadata": {},
     "output_type": "execute_result"
    }
   ],
   "source": [
    "list(cat[cat['Category']==1].index)"
   ]
  },
  {
   "cell_type": "code",
   "execution_count": 12,
   "metadata": {
    "collapsed": true
   },
   "outputs": [],
   "source": [
    "content = zip(cat[cat['Category']==1].index, cat[cat['Category']==1]['Body'])"
   ]
  },
  {
   "cell_type": "code",
   "execution_count": 13,
   "metadata": {},
   "outputs": [],
   "source": [
    "#cat[cat['Category']==1]"
   ]
  },
  {
   "cell_type": "code",
   "execution_count": 14,
   "metadata": {},
   "outputs": [],
   "source": [
    "#[i for i in content]"
   ]
  },
  {
   "cell_type": "code",
   "execution_count": 15,
   "metadata": {
    "collapsed": true
   },
   "outputs": [],
   "source": [
    "l1 = [5,5,5,5,5,3,3,3,3,1]\n",
    "l2 = [3,3,1,2,2,2,7,1,2,1]\n",
    "l3 = [4,3,5,3,3,5,5,5,1,1]\n",
    "l4 = [1,1,1,1,1,1,1,1,7,7]\n",
    "l5 = [1,1,2,2,1,7,1,1,1,7]\n",
    "l6 = [2,2,2,2,1,1,2,2,5,4]\n",
    "l7 = [4,1,4,1,1,1,7,5,5,1]\n",
    "l8 = [1,1,1,5,5,3,1,7,7,7]\n",
    "l9 = [1,5,5,5,1,4,1,4,4,4]\n",
    "l10= [1,1,2,2,2,5,1,2,5,2]\n",
    "l11= [1,4,4,4,4,5,1,1,5,5]\n",
    "l12= [5,7,7,1,7,1,5,5,4,4]\n",
    "l13= [4,1,7,7,7,7,7,4,4,4]\n",
    "l14= [4,1,5,5,1,5,5,7,1,5]\n",
    "l15= [5,4,4,4,4,4,4,1,7,7]\n",
    "l16= [7,7,2,2,5,7,5,1,4,5]\n",
    "l17= [5,5,2,2,2,2,2,1,2,2]\n",
    "l18= [2,2,2,2,7,7,1,2,7,1]\n",
    "l19= [1,1,5,5,3,1,3,3,3,7]\n",
    "l20= [4,4,4,4,4,4,4,4,4,4]\n",
    "l21= [5,1,1,5,4,4,4,4,4,4]\n",
    "l22= [4,4,4,1,3,3,4,4,1,1]\n",
    "l23= [1,1,5,5,5,5,5,2,5,5]\n",
    "l24= [2,4,4,4,4,4,4,4,4,1]\n",
    "l25= [1,4,4,1,4,4,1,1,1,7]\n",
    "l26= [1,7,4,4,4,4,4,4,4,5]\n",
    "l27= [5,5,4,4,4,4,4,4,4,4]\n",
    "l28= [1,5,5,1,1,5,5,4,4,4]\n",
    "l29= [1,4,1,1,4,4,4,3,3,1]\n",
    "l30= [1,1,1,1,1,1,1,1,5,5]\n",
    "l31= [1,1,1,4]"
   ]
  },
  {
   "cell_type": "code",
   "execution_count": null,
   "metadata": {
    "collapsed": true
   },
   "outputs": [],
   "source": []
  }
 ],
 "metadata": {
  "kernelspec": {
   "display_name": "Python 3",
   "language": "python",
   "name": "python3"
  },
  "language_info": {
   "codemirror_mode": {
    "name": "ipython",
    "version": 3
   },
   "file_extension": ".py",
   "mimetype": "text/x-python",
   "name": "python",
   "nbconvert_exporter": "python",
   "pygments_lexer": "ipython3",
   "version": "3.6.1"
  }
 },
 "nbformat": 4,
 "nbformat_minor": 2
}
