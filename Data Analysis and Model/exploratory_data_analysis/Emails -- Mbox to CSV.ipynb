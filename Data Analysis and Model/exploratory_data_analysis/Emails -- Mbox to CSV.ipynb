{
 "cells": [
  {
   "cell_type": "code",
   "execution_count": 1,
   "metadata": {
    "collapsed": true
   },
   "outputs": [],
   "source": [
    "### import all the things ###\n",
    "import mailbox\n",
    "import string\n",
    "import datetime\n",
    "from dateutil.parser import parse\n",
    "import random\n",
    "import email.utils\n",
    "import email\n",
    "import pandas as pd\n",
    "import matplotlib\n",
    "import matplotlib.pyplot as plt\n",
    "import matplotlib.dates as mdates\n",
    "import matplotlib.figure\n",
    "import re\n",
    "import seaborn as sns\n",
    "from matplotlib.ticker import *\n",
    "from collections import Counter\n",
    "import nltk\n",
    "from nltk.corpus import stopwords\n",
    "import lxml.html\n",
    "from nltk.stem import WordNetLemmatizer, PorterStemmer\n",
    "import unicodedata\n",
    "#import gensim\n",
    "\n",
    "### define all the things ###\n",
    "def quarters(date):\n",
    "# a function to print which quarter an email was in\n",
    "\n",
    "    winter = [1,2,3] #january through march\n",
    "    spring = [4,5,6] #april through june\n",
    "    summer = [7,8] #july through september\n",
    "    fall = [9,10,11,12] #october through december\n",
    "    if date.month in winter:\n",
    "        return \"WN\"\n",
    "    elif date.month in spring:\n",
    "        return \"SPR\"\n",
    "    elif date.month in summer:\n",
    "        return \"SU\"\n",
    "    elif date.month in fall:\n",
    "        return \"FA\"\n",
    "\n",
    "def d_o_w(date):\n",
    "#a function that returns the day on which a call was recorded\n",
    "    \n",
    "    days_of_week = {0:\"Mon\", 1:\"Tues\", 2:\"Wed\", 3:\"Thurs\", 4:\"Fri\", 5:\"Sat\", 6:\"Sun\"}\n",
    "    temp = date.reset_index(drop=True)\n",
    "    \n",
    "    #subtract 12 hours as a buffer for late call logs throughout the night, since calls\n",
    "    #can come in at up to 2 am, but call logs can be submitted at any time in the next day\n",
    "    \n",
    "    temp_day = temp[\"Date\"] - pd.Timedelta(hours=12) \n",
    "    day = []\n",
    "    for i in temp_day:\n",
    "        day.append(days_of_week.get(i.dayofweek))\n",
    "    return day\n",
    "\n",
    "\"\"\" \n",
    "the following two functions are courtesy\n",
    "of stack overflow user R. Fabbiri\n",
    "\n",
    "http://stackoverflow.com/questions/7166922/extracting\n",
    "-the-body-of-an-email-from-mbox-file-decoding-it-to\n",
    "-plain-text-regard\n",
    "\"\"\"\n",
    "def getcharsets(msg):\n",
    "    charsets = set({})\n",
    "    for c in msg.get_charsets():\n",
    "        if c is not None:\n",
    "            charsets.update([c])\n",
    "    return charsets\n",
    "\n",
    "def getBody(msg):\n",
    "    while msg.is_multipart():\n",
    "        msg=msg.get_payload()[0]\n",
    "    t=msg.get_payload(decode=True)\n",
    "    for charset in getcharsets(msg):\n",
    "        t=t.decode(charset)\n",
    "    t = lxml.html.fromstring(t.lower()).text_content()\n",
    "    t = unicodedata.normalize(\"NFKD\", t)\n",
    "    t = re.sub(r'[\\t\\n\\r]', ' ', t)\n",
    "    return t"
   ]
  },
  {
   "cell_type": "code",
   "execution_count": 2,
   "metadata": {},
   "outputs": [
    {
     "name": "stdout",
     "output_type": "stream",
     "text": [
      "<class 'mailbox.mbox'>\n",
      "['X-GM-THRID', 'X-Gmail-Labels', 'MIME-Version', 'Received', 'Date', 'Delivered-To', 'Message-ID', 'Subject', 'From', 'To', 'Content-Type']\n",
      "This mailbox has 2007 messages.\n"
     ]
    }
   ],
   "source": [
    "full_mail = mailbox.mbox('../data/All mail Including Spam and Trash -- Most Recent.mbox')\n",
    "print(type(full_mail))\n",
    "print(full_mail[0].keys())\n",
    "print(\"This mailbox has \" + str(len(full_mail)) + \" messages.\")"
   ]
  },
  {
   "cell_type": "code",
   "execution_count": 51,
   "metadata": {},
   "outputs": [
    {
     "name": "stdout",
     "output_type": "stream",
     "text": [
      "AN EXAMPLE OF THE SUBJECT: Midterm Conflicts \n",
      "\n",
      "AN EXAMPLE OF THE RECEPIENTS: .\n",
      "\n",
      "AN EXAMPLE OF THE BODY: Content-Type: multipart/alternative; boundary=\"001a113d128609f80c056338971a\"\n",
      "\n",
      "--001a113d128609f80c056338971a\n",
      "Content-Type: text/plain; charset=\"UTF-8\"\n",
      "\n",
      "Hi ,\n",
      "\n",
      "I have a midterm conflict, and here are the details:\n",
      "\n",
      "The exam I will miss: Midterm 1\n",
      "Why I'm missing it: Physics 137A midterm on the same day, 6-8pm\n",
      "Two screenshots of 137A syllabus is attached.\n",
      "\n",
      "Best,\n"
     ]
    }
   ],
   "source": [
    "n = 200\n",
    "print(\"AN EXAMPLE OF THE SUBJECT: \" + full_mail[n][\"Subject\"][:18])\n",
    "print(\"\\nAN EXAMPLE OF THE RECEPIENTS: \" + full_mail[n][\"To\"]) #was removed during anonymizing of data\n",
    "print(\"\\nAN EXAMPLE OF THE BODY: \" + str(full_mail[n].get_payload()[0])[:360])"
   ]
  },
  {
   "cell_type": "code",
   "execution_count": 52,
   "metadata": {},
   "outputs": [],
   "source": [
    "fields = ['Date', 'From', 'To', 'Subject','X-Gmail-Labels', 'X-GM-THRID']\n",
    "allMessages = []\n",
    "for message in full_mail.itervalues():\n",
    "    dmessage = dict(message.items())\n",
    "    allMessages.append({field:dmessage[field] if field in dmessage.keys() else '' for field in fields})\n",
    "\n",
    "# process each email and get the body;\n",
    "# if not, report, and append an empty string\n",
    "bodies = []\n",
    "for i in range(len(full_mail)):\n",
    "    try:\n",
    "        t = getBody(full_mail[i])\n",
    "        #t = lxml.html.fromstring(t.lower()).text_content()\n",
    "        #t = unicodedata.normalize(\"NFKD\", t)\n",
    "        bodies.append(t)\n",
    "    except:\n",
    "        bodies.append(\"\")\n",
    "# remove pesky replies and signatures\n",
    "#bodies = [re.sub(\"on \\d\\d/\\d\\d/\\d\\d.+\",\"\",bodies[n]) for n in range(len(bodies))]\n",
    "#bodies = [re.sub(\"--.+\",\"\",bodies[n]) for n in range(len(bodies))]\n",
    "#bodies = [re.sub(\"_+\", \"\",bodies[n]) for n in range(len(bodies))]\n",
    "\n",
    "\n",
    "mail = pd.DataFrame(allMessages)\n",
    "mail['Date'] = pd.to_datetime(mail['Date'], utc=True)\n",
    "#mail[\"Quarter\"]=[quarters(i) for i in mail[\"Date\"]]\n",
    "mail[\"Body\"] = bodies"
   ]
  },
  {
   "cell_type": "code",
   "execution_count": 53,
   "metadata": {},
   "outputs": [
    {
     "name": "stdout",
     "output_type": "stream",
     "text": [
      "2007\n"
     ]
    }
   ],
   "source": [
    "print(len(mail))"
   ]
  },
  {
   "cell_type": "code",
   "execution_count": 54,
   "metadata": {},
   "outputs": [
    {
     "data": {
      "text/plain": [
       "\"hi ee16a,    i’m so glad you decided to try out gmail. here are a few tips to get you up    and running fast.    --------    gmail        gmail on the go      with gmail for android        and ios    ,    you get real-time notifications so you don't miss important emails.    --------    drive        the best of google    when you sign up for gmail you get a google account        that gives you access to lots of google stuff like 15gb of free storage in    drive    .    check out more tips    .    --------    trust shield        you’re in control    choose what’s right for you. you can review and adjust your privacy and    security settings any time at my account    .    --------    replies to this email aren’t monitored, but if you have a question try the    help center        or post it to the gmail help forum        where my team and other expert users answer questions.      enjoy your new account,    andy        gmail community manager      keep in touch: twitter    ,    facebook    ,    google+          get gmail on the go.    google play        app store          google          google search        gmail        maps        youtube        drive        photos        play        chrome          © 2017 google llc 1600 amphitheatre parkway, mountain view, ca 94043  this email was sent to you because you created a google account.  \""
      ]
     },
     "execution_count": 54,
     "metadata": {},
     "output_type": "execute_result"
    }
   ],
   "source": [
    "mail[\"Body\"][3]"
   ]
  },
  {
   "cell_type": "code",
   "execution_count": 55,
   "metadata": {},
   "outputs": [
    {
     "name": "stdout",
     "output_type": "stream",
     "text": [
      "<CAOh05cst=nEBcX5z8ZC9gViD4Ub9=>\n"
     ]
    }
   ],
   "source": [
    "print(full_mail[0]['Message-ID'])"
   ]
  },
  {
   "cell_type": "code",
   "execution_count": 56,
   "metadata": {
    "collapsed": true
   },
   "outputs": [],
   "source": [
    "mail.to_csv('../data/mail_tbl -- most recent.csv', index=False, sep=',', encoding='utf-8')"
   ]
  },
  {
   "cell_type": "code",
   "execution_count": null,
   "metadata": {
    "collapsed": true
   },
   "outputs": [],
   "source": []
  }
 ],
 "metadata": {
  "kernelspec": {
   "display_name": "Python 3",
   "language": "python",
   "name": "python3"
  },
  "language_info": {
   "codemirror_mode": {
    "name": "ipython",
    "version": 3
   },
   "file_extension": ".py",
   "mimetype": "text/x-python",
   "name": "python",
   "nbconvert_exporter": "python",
   "pygments_lexer": "ipython3",
   "version": "3.6.1"
  }
 },
 "nbformat": 4,
 "nbformat_minor": 2
}
