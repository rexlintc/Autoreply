{
 "cells": [
  {
   "cell_type": "markdown",
   "metadata": {},
   "source": [
    "# Labeling\n",
    "\n",
    "---\n",
    "\n",
    "The category names we will be using are as follows:\n",
    "1. `miscl.` -- Any miscellaneous emails that don't belong to one of the categories above (anything that we can't generate a generic response to)\n",
    "2. `conflicts` -- Anything related to midterm/final scheduling conflicts\n",
    "3. `attendance` -- \n",
    "4. `hw` -- Anything related to homework (e.g. submissions)\n",
    "5. `enrollment` -- Anything related to Calcentral/course enrollment issues\n",
    "6. `internal`-- Anything related to course logistics, hiring, or other administrative issues\n",
    "7. `dsp` \n",
    "8. `regrades`"
   ]
  },
  {
   "cell_type": "code",
   "execution_count": 1,
   "metadata": {
    "collapsed": true
   },
   "outputs": [],
   "source": [
    "import pandas as pd\n",
    "pd.set_option('display.max_colwidth', -1)"
   ]
  },
  {
   "cell_type": "code",
   "execution_count": 2,
   "metadata": {
    "collapsed": true
   },
   "outputs": [],
   "source": [
    "emails = pd.read_csv('../data/rohan_label.csv')\n",
    "#emails.head()"
   ]
  },
  {
   "cell_type": "code",
   "execution_count": 4,
   "metadata": {},
   "outputs": [
    {
     "data": {
      "text/plain": [
       "'hi lydia,  my apologies for misinterpreting what you said; i didn’t intend to defer the action, just wanted to get additional information.    ,  - can you please try looking (via calcentral) at what the tough profile/distribution of students on the waitlist for next semester’s  looks like?  thanks,  elad  > '"
      ]
     },
     "execution_count": 4,
     "metadata": {},
     "output_type": "execute_result"
    }
   ],
   "source": [
    "content = emails['Body']\n",
    "content[5]"
   ]
  },
  {
   "cell_type": "code",
   "execution_count": 5,
   "metadata": {},
   "outputs": [],
   "source": [
    "#for i, em in enumerate(content):\n",
    "    #print('EMAIL!!!', i, '\\n', '   ', em, '\\n')"
   ]
  },
  {
   "cell_type": "code",
   "execution_count": 6,
   "metadata": {
    "collapsed": true
   },
   "outputs": [],
   "source": [
    "l30 = [5,5,1,1]"
   ]
  },
  {
   "cell_type": "code",
   "execution_count": 7,
   "metadata": {
    "collapsed": true
   },
   "outputs": [],
   "source": [
    "l29 = [5,5,5,5,5,1,1,5,5,5]"
   ]
  },
  {
   "cell_type": "code",
   "execution_count": 8,
   "metadata": {
    "collapsed": true
   },
   "outputs": [],
   "source": [
    "l28 = [5,5,5,1,1,1,1,5,5,4]"
   ]
  },
  {
   "cell_type": "code",
   "execution_count": 9,
   "metadata": {
    "collapsed": true
   },
   "outputs": [],
   "source": [
    "l27 = [7,7,1,7,7,4,1,1,5,5]"
   ]
  },
  {
   "cell_type": "code",
   "execution_count": 10,
   "metadata": {
    "collapsed": true
   },
   "outputs": [],
   "source": [
    "l26 = [1,1,1,1,1,1,7,7,7,7]"
   ]
  },
  {
   "cell_type": "code",
   "execution_count": 11,
   "metadata": {
    "collapsed": true
   },
   "outputs": [],
   "source": [
    "l25 = [7,7,7,1,1,7,1,1,1,1]"
   ]
  },
  {
   "cell_type": "code",
   "execution_count": 12,
   "metadata": {
    "collapsed": true
   },
   "outputs": [],
   "source": [
    "l24 = [1,1,1,1,7,7,7,7,2,2]"
   ]
  },
  {
   "cell_type": "code",
   "execution_count": 13,
   "metadata": {
    "collapsed": true
   },
   "outputs": [],
   "source": [
    "l23 = [2,2,2,2,2,2,2,2,7,1]"
   ]
  },
  {
   "cell_type": "code",
   "execution_count": 14,
   "metadata": {
    "collapsed": true
   },
   "outputs": [],
   "source": [
    "l22 = [1,1,1,1,1,1,2,2,5,5]"
   ]
  },
  {
   "cell_type": "code",
   "execution_count": 15,
   "metadata": {
    "collapsed": true
   },
   "outputs": [],
   "source": [
    "l21 = [1,1,1,7,7,7,7,7,1,1]"
   ]
  },
  {
   "cell_type": "code",
   "execution_count": 16,
   "metadata": {
    "collapsed": true
   },
   "outputs": [],
   "source": [
    "l20 = [2,2,7,7,7,1,1,1,1,1]"
   ]
  },
  {
   "cell_type": "code",
   "execution_count": 17,
   "metadata": {
    "collapsed": true
   },
   "outputs": [],
   "source": [
    "l19 = [7,7,7,7,5,5,7,7,1,7]"
   ]
  },
  {
   "cell_type": "code",
   "execution_count": 18,
   "metadata": {
    "collapsed": true
   },
   "outputs": [],
   "source": [
    "l18 = [2,2,2,1,2,2,2,2,1,7]"
   ]
  },
  {
   "cell_type": "code",
   "execution_count": 19,
   "metadata": {
    "collapsed": true
   },
   "outputs": [],
   "source": [
    "l17 = [2,2,2,2,1,1,1,1,2,2]"
   ]
  },
  {
   "cell_type": "code",
   "execution_count": 20,
   "metadata": {
    "collapsed": true
   },
   "outputs": [],
   "source": [
    "l16 = [5,5,5,2,2,1,1,2,2,2]"
   ]
  },
  {
   "cell_type": "code",
   "execution_count": 21,
   "metadata": {
    "collapsed": true
   },
   "outputs": [],
   "source": [
    "l15 = [5,5,5,5,5,5,5,5,5,5]"
   ]
  },
  {
   "cell_type": "code",
   "execution_count": 22,
   "metadata": {
    "collapsed": true
   },
   "outputs": [],
   "source": [
    "l14 = [2,2,2,2,1,2,2,2,2,5]"
   ]
  },
  {
   "cell_type": "code",
   "execution_count": 23,
   "metadata": {
    "collapsed": true
   },
   "outputs": [],
   "source": [
    "l13 = [2,5,5,2,2,1,5,5,2,1]"
   ]
  },
  {
   "cell_type": "code",
   "execution_count": 24,
   "metadata": {
    "collapsed": true
   },
   "outputs": [],
   "source": [
    "l12 = [5,5,1,1,1,1,1,1,1,2]"
   ]
  },
  {
   "cell_type": "code",
   "execution_count": 25,
   "metadata": {
    "collapsed": true
   },
   "outputs": [],
   "source": [
    "l11 = [5,5,5,5,5,5,5,5,1,5]"
   ]
  },
  {
   "cell_type": "code",
   "execution_count": 26,
   "metadata": {
    "collapsed": true
   },
   "outputs": [],
   "source": [
    "l10 = [1,2,1,1,2,1,1,5,5,5]"
   ]
  },
  {
   "cell_type": "code",
   "execution_count": 27,
   "metadata": {
    "collapsed": true
   },
   "outputs": [],
   "source": [
    "l9 = [5,5,2,2,2,1,2,2,2,2]"
   ]
  },
  {
   "cell_type": "code",
   "execution_count": 28,
   "metadata": {
    "collapsed": true
   },
   "outputs": [],
   "source": [
    "l8 = [2,2,1,5,5,5,5,1,5,5]"
   ]
  },
  {
   "cell_type": "code",
   "execution_count": 29,
   "metadata": {
    "collapsed": true
   },
   "outputs": [],
   "source": [
    "l7 = [5,5,5,6,1,1,7,2,2,2]"
   ]
  },
  {
   "cell_type": "code",
   "execution_count": 30,
   "metadata": {
    "collapsed": true
   },
   "outputs": [],
   "source": [
    "l6 = [6,5,5,1,1,1,5,5,5,5]"
   ]
  },
  {
   "cell_type": "code",
   "execution_count": 31,
   "metadata": {
    "collapsed": true
   },
   "outputs": [],
   "source": [
    "l5 = [5,5,5,5,1,5,5,6,6,6]"
   ]
  },
  {
   "cell_type": "code",
   "execution_count": 32,
   "metadata": {
    "collapsed": true
   },
   "outputs": [],
   "source": [
    "l4 = [6,6,6,5,5,5,5,5,5,5]"
   ]
  },
  {
   "cell_type": "code",
   "execution_count": 33,
   "metadata": {
    "collapsed": true
   },
   "outputs": [],
   "source": [
    "l3 = [6,6,6,6,6,6,6,6,6,6]"
   ]
  },
  {
   "cell_type": "code",
   "execution_count": 34,
   "metadata": {
    "collapsed": true
   },
   "outputs": [],
   "source": [
    "l2 = [6,6,6,6,6,6,6,6,6,6]"
   ]
  },
  {
   "cell_type": "code",
   "execution_count": 35,
   "metadata": {
    "collapsed": true
   },
   "outputs": [],
   "source": [
    "l1 = [6,6,6,6,1,6,6,1,1,5]"
   ]
  },
  {
   "cell_type": "code",
   "execution_count": 36,
   "metadata": {
    "collapsed": true
   },
   "outputs": [],
   "source": [
    "l0 = [6,6,6,6,6,6,6,6,6,6]"
   ]
  },
  {
   "cell_type": "code",
   "execution_count": 37,
   "metadata": {},
   "outputs": [
    {
     "data": {
      "text/plain": [
       "304"
      ]
     },
     "execution_count": 37,
     "metadata": {},
     "output_type": "execute_result"
    }
   ],
   "source": [
    "l = l0+l1+l2+l3+l4+l5+l6+l7+l8+l9+l10+l11+l12+l13+l14+l15+l16+l17+l18+l19+l20+l21+l22+l23+l24+l25+l26+l27+l28+l29+l30\n",
    "len(l)"
   ]
  },
  {
   "cell_type": "code",
   "execution_count": 38,
   "metadata": {
    "collapsed": true
   },
   "outputs": [],
   "source": [
    "emails['Category'] = l"
   ]
  },
  {
   "cell_type": "code",
   "execution_count": 40,
   "metadata": {
    "collapsed": true
   },
   "outputs": [],
   "source": [
    "emails.to_csv('../data/rohan_labeled.csv', index=False, sep=',', encoding='utf-8')"
   ]
  },
  {
   "cell_type": "markdown",
   "metadata": {},
   "source": [
    "### Labeling Kristian's Data"
   ]
  },
  {
   "cell_type": "code",
   "execution_count": 45,
   "metadata": {},
   "outputs": [],
   "source": [
    "e2 = pd.read_csv('../data/kristian_label.csv')\n",
    "#e2.head()"
   ]
  },
  {
   "cell_type": "code",
   "execution_count": 46,
   "metadata": {},
   "outputs": [],
   "source": [
    "content = e2['Body']\n",
    "#for i, em in enumerate(content):\n",
    "    #print('EMAIL!!!', i, '\\n', '   ', em, '\\n')"
   ]
  },
  {
   "cell_type": "code",
   "execution_count": 47,
   "metadata": {
    "collapsed": true
   },
   "outputs": [],
   "source": [
    "lll = [0,1,2,3,4,5,6,7,8,9]\n",
    "l20 = [1,1,1,1,1,1,1,1,1,8]\n",
    "l21 = [8,8,8,1,1,4,4,4,4,1]\n",
    "l22 = [3,1,1,4,4,7,7,4,4,1]\n",
    "l23 = [1,4,4,4,3,3,3,3,3,1]\n",
    "l24 = [1,1,3,3,8,8,8,8,1,1]\n",
    "l25 = [8,1,8,4,4,1,7,7,1,1]\n",
    "l26 = [1,1,1,1,1,1,1,2,2,6]\n",
    "l27 = [1,1,4,4,4,4,4,4,4,4]\n",
    "l28 = [4,4,4,4,1,4,4,1,2,2]\n",
    "l29 = [2,1,2,2,2,2,2,2,2,2]\n",
    "l30 = [2,1,1,1]"
   ]
  },
  {
   "cell_type": "code",
   "execution_count": 48,
   "metadata": {
    "collapsed": true
   },
   "outputs": [],
   "source": [
    "lll = [0,1,2,3,4,5,6,7,8,9]\n",
    "l10 = [4,3,3,3,1,1,3,1,1,3]\n",
    "l11 = [8,8,8,8,8,8,8,1,1,4]\n",
    "l12 = [4,1,4,1,1,1,3,3,3,4]\n",
    "l13 = [4,4,4,4,4,7,7,7,1,1]\n",
    "l14 = [5,1,5,5,1,1,3,3,1,1]\n",
    "l15 = [1,4,1,4,1,1,1,1,1,1]\n",
    "l16 = [1,1,1,1,1,1,1,1,1,1]\n",
    "l17 = [4,1,4,4,4,4,1,1,1,1]\n",
    "l18 = [1,1,1,1,1,1,1,1,1,1]\n",
    "l19 = [1,1,7,7,8,1,8,8,1,8]"
   ]
  },
  {
   "cell_type": "code",
   "execution_count": 49,
   "metadata": {
    "collapsed": true
   },
   "outputs": [],
   "source": [
    "l0 = [7,3,3,3,3,1,3,3,1,1]\n",
    "l1 = [1,1,1,1,1,1,5,2,1,1]\n",
    "l2 = [1,2,2,4,4,3,3,3,3,2]\n",
    "l3 = [2,2,2,2,2,2,2,1,1,1]\n",
    "l4 = [2,2,2,2,2,2,2,2,2,2]\n",
    "l5 = [2,1,4,1,1,1,1,1,3,3]\n",
    "l6 = [3,1,7,7,1,1,1,1,1,2]\n",
    "l7 = [2,1,2,1,2,2,2,2,2,2]\n",
    "l8 = [1,1,1,1,1,1,1,1,1,1]\n",
    "l9 = [4,4,1,4,4,7,7,1,1,4]"
   ]
  },
  {
   "cell_type": "code",
   "execution_count": 50,
   "metadata": {},
   "outputs": [
    {
     "data": {
      "text/plain": [
       "304"
      ]
     },
     "execution_count": 50,
     "metadata": {},
     "output_type": "execute_result"
    }
   ],
   "source": [
    "l = l0+l1+l2+l3+l4+l5+l6+l7+l8+l9+l10+l11+l12+l13+l14+l15+l16+l17+l18+l19+l20+l21+l22+l23+l24+l25+l26+l27+l28+l29+l30\n",
    "len(l)"
   ]
  },
  {
   "cell_type": "code",
   "execution_count": 54,
   "metadata": {
    "collapsed": true
   },
   "outputs": [],
   "source": [
    "e2['Category'] = l"
   ]
  },
  {
   "cell_type": "code",
   "execution_count": 55,
   "metadata": {
    "collapsed": true
   },
   "outputs": [],
   "source": [
    "e2.to_csv('../data/kristian_labeled.csv', index=False, sep=',', encoding='utf-8')"
   ]
  }
 ],
 "metadata": {
  "kernelspec": {
   "display_name": "Python 3",
   "language": "python",
   "name": "python3"
  },
  "language_info": {
   "codemirror_mode": {
    "name": "ipython",
    "version": 3
   },
   "file_extension": ".py",
   "mimetype": "text/x-python",
   "name": "python",
   "nbconvert_exporter": "python",
   "pygments_lexer": "ipython3",
   "version": "3.6.1"
  }
 },
 "nbformat": 4,
 "nbformat_minor": 2
}
