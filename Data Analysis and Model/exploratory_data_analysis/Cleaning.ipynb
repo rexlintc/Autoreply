{
 "cells": [
  {
   "cell_type": "code",
   "execution_count": 61,
   "metadata": {
    "collapsed": true
   },
   "outputs": [],
   "source": [
    "import pandas as pd\n",
    "import re"
   ]
  },
  {
   "cell_type": "code",
   "execution_count": 62,
   "metadata": {
    "collapsed": true
   },
   "outputs": [],
   "source": [
    "emails = pd.read_csv('../data/mail_tbl -- most recent.csv')"
   ]
  },
  {
   "cell_type": "code",
   "execution_count": 63,
   "metadata": {
    "collapsed": true
   },
   "outputs": [],
   "source": [
    "#emails = pd.read_csv('../data/mail_tbl.csv')\n",
    "emails.Body = emails.Body.fillna(\"\") "
   ]
  },
  {
   "cell_type": "code",
   "execution_count": 64,
   "metadata": {},
   "outputs": [
    {
     "name": "stdout",
     "output_type": "stream",
     "text": [
      "2007\n"
     ]
    }
   ],
   "source": [
    "print(len(emails))\n",
    "#emails.head()"
   ]
  },
  {
   "cell_type": "markdown",
   "metadata": {},
   "source": [
    "## Filtering Emails\n",
    "\n",
    "---\n",
    "\n",
    "1. Need something to keep track of thread ID (keep list of all thread IDs?)\n",
    "2. When new email comes in, check whether ID belongs in list of ID's\n",
    "3. If it does, check to see if STAFF or student initiated\n",
    "4. If not, check to see if STAFF or student initiated, and if student, add ID to list of ID's\n",
    "5. If Staff, send to \"Important\" Folder\n",
    "6. Don't consider auto-generated emails (\"has accepted invitation\", from Google, etc)\n",
    "\n",
    "---\n",
    "\n",
    "\n",
    "We will only look at \"Important Inbox\"/\"Inbox\" label types"
   ]
  },
  {
   "cell_type": "code",
   "execution_count": 65,
   "metadata": {
    "collapsed": true
   },
   "outputs": [],
   "source": [
    "emails['Date'] = pd.to_datetime(emails['Date'])"
   ]
  },
  {
   "cell_type": "code",
   "execution_count": 66,
   "metadata": {
    "collapsed": true
   },
   "outputs": [],
   "source": [
    "#making list of all threat id's\n",
    "thread_ids = emails['X-GM-THRID'].unique()"
   ]
  },
  {
   "cell_type": "code",
   "execution_count": 67,
   "metadata": {},
   "outputs": [
    {
     "name": "stdout",
     "output_type": "stream",
     "text": [
      "Number of threads initiated by staff: 89\n"
     ]
    }
   ],
   "source": [
    "#list of all thread id's initiated by EE Staff\n",
    "from_ee = []\n",
    "for id in thread_ids:\n",
    "    id_tbl = emails[emails['X-GM-THRID'] == id].sort_values('Date', ascending=True)\n",
    "    if list(id_tbl['From'])[0] == 'STAFF <.>':\n",
    "        from_ee.append(id)\n",
    "print(\"Number of threads initiated by staff:\", len(from_ee))"
   ]
  },
  {
   "cell_type": "code",
   "execution_count": 68,
   "metadata": {
    "collapsed": true
   },
   "outputs": [],
   "source": [
    "#filter out any emails threads started by EE Staff\n",
    "emails = emails[~emails['X-GM-THRID'].isin(from_ee)]"
   ]
  },
  {
   "cell_type": "code",
   "execution_count": 69,
   "metadata": {},
   "outputs": [
    {
     "data": {
      "text/plain": [
       "Important,Inbox                                  757\n",
       "Important,Sent                                   315\n",
       "Sent                                             288\n",
       "Inbox                                             23\n",
       "Unread,Important,Inbox                            22\n",
       "Important,discuss at admin,Sent                   17\n",
       "Important,discuss at admin,Inbox                  15\n",
       "Important,Starred,Inbox                           15\n",
       "Unread,Important,discuss at admin,Inbox           12\n",
       "Unread,Important,discuss at admin,Sent            12\n",
       "Important,Inbox,for                               10\n",
       "Important,cheating,Inbox                           6\n",
       "Unread,Important,Sent                              5\n",
       "Important                                          4\n",
       "Unread,Important,tabled,Inbox                      4\n",
       "Important,Sent,for                                 4\n",
       "discuss at admin,Sent                              3\n",
       "Important,discuss at admin,Inbox,for               3\n",
       "Important,for                                      3\n",
       "Sent,Inbox                                         2\n",
       "Important,discuss at admin                         2\n",
       "Important,tabled,Sent                              2\n",
       "Unread,Important,tabled,Sent                       2\n",
       "Unread,Important                                   1\n",
       "Important,Starred,discuss at admin,Inbox,for       1\n",
       "Important,cheating,Starred,Inbox                   1\n",
       "Unread                                             1\n",
       "Important,discuss at admin,Sent,for                1\n",
       "Important,tabled,Inbox                             1\n",
       "Unread,Sent                                        1\n",
       "Sent,for                                           1\n",
       "Name: X-Gmail-Labels, dtype: int64"
      ]
     },
     "execution_count": 69,
     "metadata": {},
     "output_type": "execute_result"
    }
   ],
   "source": [
    "#all folders containing emails\n",
    "emails['X-Gmail-Labels'].value_counts(dropna=False)"
   ]
  },
  {
   "cell_type": "code",
   "execution_count": 70,
   "metadata": {
    "collapsed": true
   },
   "outputs": [],
   "source": [
    "#not include spams\n",
    "non_important_mails = [\"Unread,Spam\", \"Drafts\"]\n",
    "emails = emails[(emails['X-Gmail-Labels'] != \"Unread,Spam\") & (emails['X-Gmail-Labels'] != \"Drafts\")]"
   ]
  },
  {
   "cell_type": "code",
   "execution_count": 71,
   "metadata": {},
   "outputs": [],
   "source": [
    "#emails[emails['From'].str.contains('Google') == False]"
   ]
  },
  {
   "cell_type": "code",
   "execution_count": 72,
   "metadata": {
    "collapsed": true
   },
   "outputs": [],
   "source": [
    "#filtering out google emails and EE16A emails \n",
    "emails = emails[emails['From'].str.contains('Google')==False]"
   ]
  },
  {
   "cell_type": "code",
   "execution_count": 73,
   "metadata": {
    "collapsed": true
   },
   "outputs": [],
   "source": [
    "#filtering out emails where people accept invitations\n",
    "emails = emails[~emails['Body'].str.contains('has accepted this invitation')]"
   ]
  },
  {
   "cell_type": "code",
   "execution_count": 74,
   "metadata": {},
   "outputs": [
    {
     "name": "stdout",
     "output_type": "stream",
     "text": [
      "1520\n"
     ]
    }
   ],
   "source": [
    "print(len(emails))"
   ]
  },
  {
   "cell_type": "code",
   "execution_count": 75,
   "metadata": {},
   "outputs": [
    {
     "name": "stdout",
     "output_type": "stream",
     "text": [
      "403\n"
     ]
    }
   ],
   "source": [
    "print(len(emails['X-GM-THRID'].unique()))\n",
    "#emails.head()"
   ]
  },
  {
   "cell_type": "markdown",
   "metadata": {},
   "source": [
    "# Fatou Anoymizing"
   ]
  },
  {
   "cell_type": "code",
   "execution_count": 48,
   "metadata": {
    "collapsed": true
   },
   "outputs": [],
   "source": [
    "def remove_mail_addresses(body):\n",
    "    regex_mail = r\"([a-z0-9.\\-]+@(eecs\\.)?berkeley\\.edu)\"\n",
    "    pattern_mail = re.compile(regex_mail)\n",
    "    try :\n",
    "        body = pattern_mail.sub(\"\", body)\n",
    "    except:\n",
    "        pass\n",
    "    return body"
   ]
  },
  {
   "cell_type": "code",
   "execution_count": 49,
   "metadata": {},
   "outputs": [
    {
     "name": "stdout",
     "output_type": "stream",
     "text": [
      "Before: hi grace, i am interested in being considered - i'll present on pagerank. thanks, oski bear. oski.bear@berkeley.edu \n",
      "After: hi grace, i am interested in being considered - i'll present on pagerank. thanks, oski bear.  \n"
     ]
    }
   ],
   "source": [
    "#example\n",
    "body = \"hi grace, i am interested in being considered - i'll present on pagerank. thanks, oski bear. oski.bear@berkeley.edu \"\n",
    "print(\"Before:\", body)\n",
    "print(\"After:\", remove_mail_addresses(body))"
   ]
  },
  {
   "cell_type": "code",
   "execution_count": 50,
   "metadata": {},
   "outputs": [],
   "source": [
    "#remove emails\n",
    "emails.Body = emails.Body.apply(remove_mail_addresses)\n",
    "emails.From = emails.From.apply(remove_mail_addresses)\n",
    "emails.To = emails.To.apply(remove_mail_addresses)\n",
    "emails.Subject = emails.Subject.apply(remove_mail_addresses)\n",
    "#emails.head()"
   ]
  },
  {
   "cell_type": "code",
   "execution_count": 51,
   "metadata": {
    "collapsed": true
   },
   "outputs": [],
   "source": [
    "import re"
   ]
  },
  {
   "cell_type": "code",
   "execution_count": 52,
   "metadata": {
    "collapsed": true
   },
   "outputs": [],
   "source": [
    "def remove_names(body):\n",
    "    regex_end_expression = r\"(sincerely|best|kind regards),?\"\n",
    "    pattern_end_expression = re.compile(regex_end_expression)\n",
    "    try :\n",
    "        search = pattern_end_expression.search(body)\n",
    "        if not (search is None) :\n",
    "            num_words = search.span()[0]\n",
    "            body = body[:num_words]\n",
    "        regex_start_email = r\"(hi|dear|hello)[,]?[ ]? (.+?)(?=,)\"\n",
    "        body = re.sub(regex_start_email, r\"\\1\", body)\n",
    "        regex_class = r\"(EE16A|EE16B)\"\n",
    "        body = re.sub(regex_class, \"\", body)\n",
    "        body = re.sub(' +',' ',body)#remove extra spaces\n",
    "    except :\n",
    "        pass\n",
    "    return body"
   ]
  },
  {
   "cell_type": "code",
   "execution_count": 53,
   "metadata": {},
   "outputs": [
    {
     "name": "stdout",
     "output_type": "stream",
     "text": [
      "Before: i meant we can see who didn't get in after the deadline has passed, so we wouldn't be able to add them in the spring.  i want to reiterate that i need to make changes to the schedule before the spring semester and not once it begins. i am on a limited schedule and cannot expand as late as we have done in previous semesters.  lydia  on thu, dec 14, 2017 at 1:51 pm, elad alon <> wrote:  > i certainly don’t want to create additional work either, but this semester > the drop rate for  was pretty low, so i’m not sure we should rely on > that to get people who need the class in.  so, can i suggest that we wait > to hear from lydia about the profile of people who are currently on the > waiting list? > thanks, > > elad > > on dec 14, 2017, at 1:34 pm, lydia raya <> wrote: > > hi , , > > i am sure that you and the  team have been working very hard already > for the spring and i don't want to create any more work for you. you are > right that students will drop and hopefully there won't end up being too > many students who can't get into the class; those students will have summer > as an option. i can take a look at the students who don't end up getting in > to see who they are and if they need to be prioritized for future semesters. > > michel &  staff, i will work on expanding  now. > > happy holidays to all, > lydia > > on thu, dec 14, 2017 at 1:08 pm,  <> wrote: > >> hi lydia, >> >> -  and i (the new  heads for spring 2018) feel pretty strongly >> that  does not need to expand. given the 10% drop trend, only ~30 >> students wouldn't get into  which seem okay given those who need the >> class had both phase 1 and phase 2 to sign up. additionally,  is largely >> done with its hiring and scheduling process. it has taken quite a while to >> organize. thus, it would highly preferable given these circumstances that >> the class capacity remains as is and additional labs/discussions aren't >> added. >> >> - we understand it is always preferable to accommodate students if >> possible, thus should you decide to expand the class do you know what date >> all room bookings would be finalized as well as if/when our budget would >> get updated? >> >> -  and i are definitely new to this so please let us know if we are >> miscommunicating or misunderstanding the situation. we really appreciate >> the help! >> >> thank you and happy holidays! >>  >> >> >> on thu, dec 14, 2017 at 11:14 am, lydia raya <> >> wrote: >> >>> phase ii began one month ago so although there may be some additional >>> students, students who need this course should have used their phase i or >>> ii by now so there shouldn't be a sudden peak going forward. >>> >>> since i'm part-time, i don't really have the capacity to do shuffling >>> once the semester begins, so it would be best to allocate now and have the >>> enrollment settled for spring. >>> >>> thanks, >>> lydia >>> >>> on thu, dec 14, 2017 at 10:56 am, elad alon <> wrote: >>> >>>> adding the  folks as well; let’s also check/discuss whether there >>>> might be further demand/enrollment in either  or  as well (so that we >>>> don’t do a bunch of shuffling and realized we allocated wrong). >>>> thanks, >>>> >>>> elad >>>> >>>> *from:* michel maharbiz <> >>>> *sent:* thursday, december 14, 2017 10:51 am >>>> *to:* lydia raya <> ; elad alon >>>> <> ; arda ege sahiner <> ; jessie >>>> yang <> >>>> *cc:* miki lustig <> >>>> *subject:* re:  budget >>>> >>>> looping in  admin staff as they have a close loop to  staff. >>>> thanks, >>>> michel >>>> >>>> ********************************* >>>> michel m. maharbiz >>>> professor >>>> department of electrical engineering and computer science >>>> college of engineering >>>> 567 cory hall >>>> university of california  >>>> , ca 94720510 - 227 - 0196  (cell)510 - 643-6637  (fax)u/~maharbiz >>>> ********************************* >>>> >>>> on 12/14/2017 10:43 am, lydia raya wrote: >>>> >>>> hi again, >>>> >>>> looking at the current enrollment status, there are 91 students on the >>>> waitlist for . i can add 9 sections of the parallel lab sections, which >>>> would add 108 seats and clear the wl once i also add discussion seats. >>>> >>>> should the other extra 6 lab sections go to  since there are 111 >>>> students on that wl? i'm not sure how the budget would work between the two >>>> classes. >>>> >>>> lydia >>>> >>>> on thu, dec 14, 2017 at 8:18 am, lydia raya <> >>>> wrote: >>>> >>>>> thanks for letting me know, elad! >>>>> >>>>> on wed, dec 13, 2017 at 5:12 pm, elad alon <> wrote: >>>>> >>>>>> fyi - looks like we should be able to expand  enrollment to 800 >>>>>> next semester. >>>>>> thanks, >>>>>> >>>>>> elad >>>>>> >>>>>> begin forwarded message: >>>>>> >>>>>> *from:* michel maharbiz <> >>>>>> *date:* december 13, 2017 at 4:19:57 pm pst >>>>>> *to:* jessie yang <>, arda ege sahiner < >>>>>> >, miki lustig <> >>>>>> *cc:* \"\" <> >>>>>> *subject:* *fwd: re:  budget* >>>>>> >>>>>> done. >>>>>> michel >>>>>> >>>>>> ********************************* >>>>>> michel m. maharbiz >>>>>> professor >>>>>> department of electrical engineering and computer science >>>>>> college of engineering >>>>>> 567 cory hall >>>>>> university of california  >>>>>> , ca 94720510 - 227 - 0196  (cell)510 - 643-6637  (fax).berkeley.edu/~maharbiz  >>>>>> ********************************* >>>>>> >>>>>> >>>>>> >>>>>> -------- forwarded message -------- >>>>>> subject: re:  budget >>>>>> date: wed, 13 dec 2017 15:21:14 -0800 >>>>>> from: rebecca davis mailto: >>>>>> <> >>>>>> to: josephine williamson mailto: >>>>>> <> >>>>>> cc: michel maharbiz mailto: >>>>>> <> >>>>>> >>>>>> >>>>>> i have updated the budget worksheet. >>>>>> >>>>>> best, >>>>>> becky >>>>>> >>>>>> on wed, dec 13, 2017 at 3:19 pm, josephine williamson < >>>>>> > wrote: >>>>>> >>>>>>> yes,  let's go with $341k. >>>>>>> thank you. >>>>>>> josephine >>>>>>> >>>>>>> on wed, dec 13, 2017 at 2:38 pm, michel maharbiz < >>>>>>> > wrote: >>>>>>> >>>>>>>> josephine, >>>>>>>> i am sure you've got too many things on your plate, so apologies. >>>>>>>> can we assume something close to a ~$341k budget for  if we can handle >>>>>>>> 800 students? >>>>>>>> this would be $106.5 / sch. just need to know for gsi hiring this >>>>>>>> week. >>>>>>>> >>>>>>>> thanks! >>>>>>>> michel >>>>>>>> >>>>>>>> -- >>>>>>>> ********************************* >>>>>>>> michel m. maharbiz >>>>>>>> professor >>>>>>>> department of electrical engineering and computer science >>>>>>>> college of engineering >>>>>>>> 567 cory hall >>>>>>>> university of california  >>>>>>>> , ca 94720 >>>>>>>> 510 - 227 - 0196 (cell) >>>>>>>> 510 - 643-6637 (fax) >>>>>>>>  >>>>>>>> www.eecs..edu/~maharbiz >>>>>>>>  >>>>>>>> ********************************* >>>>>>>> >>>>>>>> >>>>>>> >>>>>> >>>>>> >>>>>> >>>>>> -- >>>>>> becky davis >>>>>> hr/payroll css liaison coordinator >>>>>> electrical engineering & computer sciences >>>>>> uc  >>>>>> 395 soda hall >>>>>> (510) 642-0544  >>>>>> >>>>>> >>>>>> >>>>> >>>>> >>>>> -- >>>>> lydia raya >>>>> ee scheduler & eecs & lscs advisor >>>>> 205 cory hall >>>>> (510)642-1786  >>>>> *hours: mon & wed 8am-5pm, fri 8am-12pm* >>>>> *pronouns: she/her/hers* >>>>> >>>>> *want to book an appointment with an advisor? see options below:* >>>>> *current cs-intended or lscs students: book through calcentral* >>>>> *current eecs students: click here >>>>> * >>>>> *prospective students: click here >>>>>  >>>>> or here >>>>>  >>>>> * >>>>> >>>>> *food pantry and housing security resources >>>>> * >>>>> *l&s computer science faq >>>>> * >>>>> *subscribe to the eecs 101 piazza page >>>>> * >>>>> >>>> >>>> >>>> >>>> -- >>>> lydia raya >>>> ee scheduler & eecs & lscs advisor >>>> 205 cory hall >>>> (510)642-1786  >>>> *hours: mon & wed 8am-5pm, fri 8am-12pm* >>>> *pronouns: she/her/hers* >>>> >>>> *want to book an appointment with an advisor? see options below:* >>>> *current cs-intended or lscs students: book through calcentral* >>>> *current eecs students: click here >>>> * >>>> *prospective students: click here >>>>  >>>> or here >>>>  >>>> * >>>> >>>> *food pantry and housing security resources >>>> * >>>> *l&s computer science faq >>>> * >>>> *subscribe to the eecs 101 piazza page >>>> * >>>> >>>> >>>> >>> >>> >>> -- >>> lydia raya >>> ee scheduler & eecs & lscs advisor >>> 205 cory hall >>> (510)642-1786  >>> *hours: mon & wed 8am-5pm, fri 8am-12pm* >>> *pronouns: she/her/hers* >>> >>> *want to book an appointment with an advisor? see options below:* >>> *current cs-intended or lscs students: book through calcentral* >>> *current eecs students: click here >>> * >>> *prospective students: click here >>>  or >>> here >>>   * >>> >>> *food pantry and housing security resources >>> * >>> *l&s computer science faq >>> * >>> *subscribe to the eecs 101 piazza page >>> * >>> >> >> > > > -- > lydia raya > ee scheduler & eecs & lscs advisor > 205 cory hall > (510)642-1786  > *hours: mon & wed 8am-5pm, fri 8am-12pm* > *pronouns: she/her/hers* > > *want to book an appointment with an advisor? see options below:* > *current cs-intended or lscs students: book through calcentral* > *current eecs students: click here > * > *prospective students: click here >  or > here >   * > > *food pantry and housing security resources > * > *l&s computer science faq > * > *subscribe to the eecs 101 piazza page > * > >   --  lydia raya ee scheduler & eecs & lscs advisor 205 cory hall (510)642-1786  *hours: mon & wed 8am-5pm, fri 8am-12pm* *pronouns: she/her/hers*  *want to book an appointment with an advisor? see options below:* *current cs-intended or lscs students: book through calcentral* *current eecs students: click here * *prospective students: click here  or here   *  *food pantry and housing security resources * *l&s computer science faq * *subscribe to the eecs 101 piazza page * \n",
      "\n",
      "After: i meant we can see who didn't get in after the deadline has passed, so we wouldn't be able to add them in the spring. i want to reiterate that i need to make changes to the schedule before the spring semester and not once it begins. i am on a limited schedule and cannot expand as late as we have done in previous semesters. lydia on thu, dec 14, 2017 at 1:51 pm, elad alon <> wrote: > i certainly don’t want to create additional work either, but this semester > the drop rate for was pretty low, so i’m not sure we should rely on > that to get people who need the class in. so, can i suggest that we wait > to hear from lydia about the profile of people who are currently on the > waiting list? > thanks, > > elad > > on dec 14, 2017, at 1:34 pm, lydia raya <> wrote: > > hi, > > i am sure that you and the team have been working very hard already > for the spring and i don't want to create any more work for you. you are > right that students will drop and hopefully there won't end up being too > many students who can't get into the class; those students will have summer > as an option. i can take a look at the students who don't end up getting in > to see who they are and if they need to be prioritized for future semesters. > > michel & staff, i will work on expanding now. > > happy holidays to all, > lydia > > on thu, dec 14, 2017 at 1:08 pm, <> wrote: > >> hi, >> >> - and i (the new heads for spring 2018) feel pretty strongly >> that does not need to expand. given the 10% drop trend, only ~30 >> students wouldn't get into which seem okay given those who need the >> class had both phase 1 and phase 2 to sign up. additionally, is largely >> done with its hiring and scheduling process. it has taken quite a while to >> organize. thus, it would highly preferable given these circumstances that >> the class capacity remains as is and additional labs/discussions aren't >> added. >> >> - we understand it is always preferable to accommodate students if >> possible, thus should you decide to expand the class do you know what date >> all room bookings would be finalized as well as if/when our budget would >> get updated? >> >> - and i are definitely new to this so please let us know if we are >> miscommunicating or misunderstanding the situation. we really appreciate >> the help! >> >> thank you and happy holidays! >> >> >> >> on thu, dec 14, 2017 at 11:14 am, lydia raya <> >> wrote: >> >>> phase ii began one month ago so although there may be some additional >>> students, students who need this course should have used their phase i or >>> ii by now so there shouldn't be a sudden peak going forward. >>> >>> since i'm part-time, i don't really have the capacity to do shuffling >>> once the semester begins, so it would be \n"
     ]
    }
   ],
   "source": [
    "#example\n",
    "body = emails.Body.iloc[6]\n",
    "print(\"Before:\", body)\n",
    "print(\"\")\n",
    "print(\"After:\", remove_names(body))"
   ]
  },
  {
   "cell_type": "code",
   "execution_count": 54,
   "metadata": {
    "collapsed": true
   },
   "outputs": [],
   "source": [
    "#counter example \n",
    "tmp = emails.Body.iloc[3]"
   ]
  },
  {
   "cell_type": "code",
   "execution_count": 55,
   "metadata": {},
   "outputs": [],
   "source": [
    "#remove names that appear at the end and at the beginning \n",
    "emails.Body = emails.Body.apply(remove_names)\n",
    "emails.From = emails.From.apply(remove_names)\n",
    "emails.To = emails.To.apply(remove_names)\n",
    "emails.Subject = emails.Subject.apply(remove_names)\n",
    "#emails.head()"
   ]
  },
  {
   "cell_type": "code",
   "execution_count": 76,
   "metadata": {
    "collapsed": true
   },
   "outputs": [],
   "source": [
    "emails.to_csv('../data/mail_tbl_anonymized_v3.csv', index=False, sep = ',', encoding='utf-8')"
   ]
  },
  {
   "cell_type": "markdown",
   "metadata": {},
   "source": [
    "# Removing reply threads"
   ]
  },
  {
   "cell_type": "code",
   "execution_count": 90,
   "metadata": {},
   "outputs": [],
   "source": [
    "e = pd.read_csv('../data/mail_tbl_anonymized_v3.csv')"
   ]
  },
  {
   "cell_type": "code",
   "execution_count": 91,
   "metadata": {
    "collapsed": true
   },
   "outputs": [],
   "source": [
    "e = e.fillna('')"
   ]
  },
  {
   "cell_type": "code",
   "execution_count": 92,
   "metadata": {},
   "outputs": [
    {
     "data": {
      "text/plain": [
       "1520"
      ]
     },
     "execution_count": 92,
     "metadata": {},
     "output_type": "execute_result"
    }
   ],
   "source": [
    "len(e)"
   ]
  },
  {
   "cell_type": "code",
   "execution_count": 93,
   "metadata": {
    "collapsed": true
   },
   "outputs": [],
   "source": [
    "import re"
   ]
  },
  {
   "cell_type": "code",
   "execution_count": 94,
   "metadata": {
    "collapsed": true
   },
   "outputs": [],
   "source": [
    "def remove_xtra(content):\n",
    "    return re.sub(\"on ... [\\d]{1,2}, [\\d]{4}, at [\\d]{1,2}:[\\d]{1,2} .* | on ..., ... [\\d]{1,2}, [\\d]{4} at [\\d]{1,2}:[\\d]{1,2} .*\", '', content)"
   ]
  },
  {
   "cell_type": "code",
   "execution_count": 95,
   "metadata": {},
   "outputs": [
    {
     "data": {
      "text/plain": [
       "'i certainly don’t want to create additional work either, but this semester the drop rate for  was pretty low, so i’m not sure we should rely on that to get people who need the class in.  so, can i suggest that we wait to hear from lydia about the profile of people who are currently on the waiting list? thanks,  elad  > on dec 14, 2017, at 1:34 pm, lydia raya <> wrote: >  > hi , , >  > i am sure that you and the  team have been working very hard already for the spring and i don\\'t want to create any more work for you. you are right that students will drop and hopefully there won\\'t end up being too many students who can\\'t get into the class; those students will have summer as an option. i can take a look at the students who don\\'t end up getting in to see who they are and if they need to be prioritized for future semesters. >  > michel &  staff, i will work on expanding  now.  >  > happy holidays to all, > lydia >  >> on thu, dec 14, 2017 at 1:08 pm,  <> wrote: >> hi lydia, >>  >> -  and i (the new  heads for spring 2018) feel pretty strongly that  does not need to expand. given the 10% drop trend, only ~30 students wouldn\\'t get into  which seem okay given those who need the class had both phase 1 and phase 2 to sign up. additionally,  is largely done with its hiring and scheduling process. it has taken quite a while to organize. thus, it would highly preferable given these circumstances that the class capacity remains as is and additional labs/discussions aren\\'t added. >>  >> - we understand it is always preferable to accommodate students if possible, thus should you decide to expand the class do you know what date all room bookings would be finalized as well as if/when our budget would get updated? >>  >> -  and i are definitely new to this so please let us know if we are miscommunicating or misunderstanding the situation. we really appreciate the help! >>  >> thank you and happy holidays! >>  >>  >>  >>> on thu, dec 14, 2017 at 11:14 am, lydia raya <> wrote: >>> phase ii began one month ago so although there may be some additional students, students who need this course should have used their phase i or ii by now so there shouldn\\'t be a sudden peak going forward. >>>  >>> since i\\'m part-time, i don\\'t really have the capacity to do shuffling once the semester begins, so it would be best to allocate now and have the enrollment settled for spring. >>>  >>> thanks, >>> lydia >>>  >>>> on thu, dec 14, 2017 at 10:56 am, elad alon <> wrote: >>>> adding the  folks as well; let’s also check/discuss whether there might be further demand/enrollment in either  or  as well (so that we don’t do a bunch of shuffling and realized we allocated wrong). >>>> thanks, >>>>   >>>> elad >>>>   >>>> from: michel maharbiz >>>> sent: thursday, december 14, 2017 10:51 am >>>> to: lydia raya ; elad alon ; arda ege sahiner ; jessie yang >>>> cc: miki lustig >>>> subject: re:  budget >>>>   >>>> looping in  admin staff as they have a close loop to  staff. >>>> thanks, >>>> michel >>>> ********************************* >>>> michel m. maharbiz >>>> professor >>>> department of electrical engineering and computer science >>>> college of engineering >>>> 567 cory hall >>>> university of california  >>>> , ca 94720 >>>> 510 - 227 - 0196 (cell) >>>> 510 - 643-6637 (fax) >>>>  >>>> www.eecs..edu/~maharbiz >>>> ********************************* >>>>> on 12/14/2017 10:43 am, lydia raya wrote: >>>>> hi again, >>>>>   >>>>> looking at the current enrollment status, there are 91 students on the waitlist for . i can add 9 sections of the parallel lab sections, which would add 108 seats and clear the wl once i also add discussion seats. >>>>>   >>>>> should the other extra 6 lab sections go to  since there are 111 students on that wl? i\\'m not sure how the budget would work between the two classes. >>>>>   >>>>> lydia >>>>>   >>>>>> on thu, dec 14, 2017 at 8:18 am, lydia raya <> wrote: >>>>>> thanks for letting me know, elad! >>>>>>   >>>>>>> on wed, dec 13, 2017 at 5:12 pm, elad alon <> wrote: >>>>>>> fyi - looks like we should be able to expand  enrollment to 800 next semester. >>>>>>> thanks, >>>>>>>  >>>>>>> elad >>>>>>>  >>>>>>> begin forwarded message: >>>>>>>  >>>>>>>> from: michel maharbiz <> >>>>>>>> date: december 13, 2017 at 4:19:57 pm pst >>>>>>>> to: jessie yang <>, arda ege          sahiner <>, miki lustig <> >>>>>>>> cc: \"\" <> >>>>>>>> subject: fwd: re:  budget >>>>>>>>  >>>>>>>> done. >>>>>>>> michel >>>>>>>>  >>>>>>>> ********************************* >>>>>>>> michel m. maharbiz >>>>>>>> professor >>>>>>>> department of electrical engineering and computer science >>>>>>>> college of engineering >>>>>>>> 567 cory hall >>>>>>>> university of california  >>>>>>>> , ca 94720 >>>>>>>> 510 - 227 - 0196 (cell) >>>>>>>> 510 - 643-6637 (fax) >>>>>>>>  >>>>>>>> www.eecs..edu/~maharbiz >>>>>>>> ********************************* >>>>>>>>  >>>>>>>>  >>>>>>>> -------- forwarded message -------- >>>>>>>> subject: re:  budget >>>>>>>> date: wed, 13 dec 2017 15:21:14 -0800 >>>>>>>> from: rebecca davis mailto: >>>>>>>> to: josephine williamson mailto: >>>>>>>> cc: michel maharbiz mailto: >>>>>>>>  >>>>>>>>  >>>>>>>> i have updated the budget worksheet. >>>>>>>>   >>>>>>>> best, >>>>>>>> becky >>>>>>>>   >>>>>>>>> on wed, dec 13, 2017 at 3:19 pm, josephine williamson  wrote: >>>>>>>>> yes,  let\\'s go with $341k. >>>>>>>>> thank you. >>>>>>>>> josephine >>>>>>>>>   >>>>>>>>>> on wed, dec 13, 2017 at 2:38 pm, michel maharbiz  wrote: >>>>>>>>>> josephine, >>>>>>>>>> i am sure you\\'ve got too many things on your plate, so apologies. can we assume something close to a ~$341k budget for  if we can handle 800 students? >>>>>>>>>> this would be $106.5 / sch. just need to know for gsi hiring this week. >>>>>>>>>>  >>>>>>>>>> thanks! >>>>>>>>>> michel >>>>>>>>>>  >>>>>>>>>> --  >>>>>>>>>> ********************************* >>>>>>>>>> michel m. maharbiz >>>>>>>>>> professor >>>>>>>>>> department of electrical engineering and computer science >>>>>>>>>> college of engineering >>>>>>>>>> 567 cory hall >>>>>>>>>> university of california  >>>>>>>>>> , ca 94720 >>>>>>>>>> 510 - 227 - 0196 (cell) >>>>>>>>>> 510 - 643-6637 (fax) >>>>>>>>>>  >>>>>>>>>> www.eecs..edu/~maharbiz >>>>>>>>>> ********************************* >>>>>>>>>>  >>>>>>>>>  >>>>>>>>>   >>>>>>>>  >>>>>>>>  >>>>>>>>   >>>>>>>> --  >>>>>>>> becky davis >>>>>>>> hr/payroll css liaison coordinator >>>>>>>> electrical engineering & computer sciences >>>>>>>> uc  >>>>>>>> 395 soda hall >>>>>>>> (510) 642-0544 >>>>>>>>  >>>>>>>>  >>>>>>  >>>>>>  >>>>>>   >>>>>> --  >>>>>> lydia raya >>>>>> ee scheduler & eecs & lscs advisor >>>>>> 205 cory hall >>>>>> (510)642-1786 >>>>>> hours: mon & wed 8am-5pm, fri 8am-12pm >>>>>> pronouns: she/her/hers >>>>>>  >>>>>> want to book an appointment with an advisor? see options below: >>>>>> current cs-intended or lscs students: book through calcentral >>>>>> current eecs students: click here >>>>>> prospective students: click here or here  >>>>>>  >>>>>> food pantry and housing security resources >>>>>> l&s computer science faq >>>>>> subscribe to the eecs 101 piazza page >>>>>  >>>>>  >>>>>  >>>>>   >>>>> --  >>>>> lydia raya >>>>> ee scheduler & eecs & lscs advisor >>>>> 205 cory hall >>>>> (510)642-1786 >>>>> hours: mon & wed 8am-5pm, fri 8am-12pm >>>>> pronouns: she/her/hers >>>>>  >>>>> want to book an appointment with an advisor? see options below: >>>>> current cs-intended or lscs students: book through calcentral >>>>> current eecs students: click here >>>>> prospective students: click here or here  >>>>>  >>>>> food pantry and housing security resources >>>>> l&s computer science faq >>>>> subscribe to the eecs 101 piazza page >>>>  >>>  >>>  >>>  >>> --  >>> lydia raya >>> ee scheduler & eecs & lscs advisor >>> 205 cory hall >>> (510)642-1786 >>> hours: mon & wed 8am-5pm, fri 8am-12pm >>> pronouns: she/her/hers >>>  >>> want to book an appointment with an advisor? see options below: >>> current cs-intended or lscs students: book through calcentral >>> current eecs students: click here >>> prospective students: click here or here   >>>  >>> food pantry and housing security resources >>> l&s computer science faq >>> subscribe to the eecs 101 piazza page >>  >  >  >  > --  > lydia raya > ee scheduler & eecs & lscs advisor > 205 cory hall > (510)642-1786 > hours: mon & wed 8am-5pm, fri 8am-12pm > pronouns: she/her/hers >  > want to book an appointment with an advisor? see options below: > current cs-intended or lscs students: book through calcentral > current eecs students: click here > prospective students: click here or here   >  > food pantry and housing security resources > l&s computer science faq > subscribe to the eecs 101 piazza page '"
      ]
     },
     "execution_count": 95,
     "metadata": {},
     "output_type": "execute_result"
    }
   ],
   "source": [
    "e.Body[5]"
   ]
  },
  {
   "cell_type": "code",
   "execution_count": 96,
   "metadata": {
    "collapsed": true
   },
   "outputs": [],
   "source": [
    "e.Body = e.Body.apply(remove_xtra)"
   ]
  },
  {
   "cell_type": "code",
   "execution_count": 97,
   "metadata": {},
   "outputs": [
    {
     "data": {
      "text/plain": [
       "'i certainly don’t want to create additional work either, but this semester the drop rate for  was pretty low, so i’m not sure we should rely on that to get people who need the class in.  so, can i suggest that we wait to hear from lydia about the profile of people who are currently on the waiting list? thanks,  elad  > '"
      ]
     },
     "execution_count": 97,
     "metadata": {},
     "output_type": "execute_result"
    }
   ],
   "source": [
    "remove_xtra(e['Body'][5])"
   ]
  },
  {
   "cell_type": "markdown",
   "metadata": {},
   "source": [
    "# Splitting DF into 5 for Labeling"
   ]
  },
  {
   "cell_type": "code",
   "execution_count": 99,
   "metadata": {
    "collapsed": true
   },
   "outputs": [],
   "source": [
    "e = e.sort_values(['X-GM-THRID', 'Date'])"
   ]
  },
  {
   "cell_type": "code",
   "execution_count": 101,
   "metadata": {},
   "outputs": [
    {
     "data": {
      "text/plain": [
       "304"
      ]
     },
     "execution_count": 101,
     "metadata": {},
     "output_type": "execute_result"
    }
   ],
   "source": [
    "length = len(e)//5\n",
    "length"
   ]
  },
  {
   "cell_type": "code",
   "execution_count": 102,
   "metadata": {
    "collapsed": true
   },
   "outputs": [],
   "source": [
    "length = len(emails)//5\n",
    "\n",
    "rohan = e.iloc[0:length, :]\n",
    "keiko = e.iloc[length:2*length, :]\n",
    "fatou = e.iloc[2*length:3*length, :]\n",
    "kristian = e.iloc[3*length:4*length, :]\n",
    "joyce = e.iloc[4*length:5*length, :]\n"
   ]
  },
  {
   "cell_type": "code",
   "execution_count": 103,
   "metadata": {
    "collapsed": true
   },
   "outputs": [],
   "source": [
    "rohan.to_csv('../data/rohan_label.csv', index=False, sep = ',', encoding='utf-8')\n",
    "keiko.to_csv('../data/keiko_label.csv', index=False, sep = ',', encoding='utf-8')\n",
    "fatou.to_csv('../data/fatou_label.csv', index=False, sep = ',', encoding='utf-8')\n",
    "kristian.to_csv('../data/kristian_label.csv', index=False, sep = ',', encoding='utf-8')\n",
    "joyce.to_csv('../data/joyce_label.csv', index=False, sep = ',', encoding='utf-8')"
   ]
  },
  {
   "cell_type": "code",
   "execution_count": 104,
   "metadata": {},
   "outputs": [
    {
     "data": {
      "text/plain": [
       "304"
      ]
     },
     "execution_count": 104,
     "metadata": {},
     "output_type": "execute_result"
    }
   ],
   "source": [
    "len(pd.read_csv('../data/rohan_label.csv'))"
   ]
  },
  {
   "cell_type": "code",
   "execution_count": null,
   "metadata": {
    "collapsed": true
   },
   "outputs": [],
   "source": []
  }
 ],
 "metadata": {
  "kernelspec": {
   "display_name": "Python 3",
   "language": "python",
   "name": "python3"
  },
  "language_info": {
   "codemirror_mode": {
    "name": "ipython",
    "version": 3
   },
   "file_extension": ".py",
   "mimetype": "text/x-python",
   "name": "python",
   "nbconvert_exporter": "python",
   "pygments_lexer": "ipython3",
   "version": "3.6.1"
  }
 },
 "nbformat": 4,
 "nbformat_minor": 2
}
